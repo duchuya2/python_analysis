{
 "cells": [
  {
   "cell_type": "markdown",
   "metadata": {},
   "source": [
    "# GROUP 2 - dataset 2"
   ]
  },
  {
   "cell_type": "markdown",
   "metadata": {},
   "source": [
    "Members: \n",
    "Trần Thanh Duy Linh\n",
    "Vũ Phạm Thảo Vy\n",
    "Lê Đức Huy\n",
    "Nguyễn Thị Hồng Nhi"
   ]
  },
  {
   "cell_type": "markdown",
   "metadata": {},
   "source": [
    "# IMPORT DATA"
   ]
  },
  {
   "cell_type": "code",
   "execution_count": 1,
   "metadata": {},
   "outputs": [],
   "source": [
    "import pandas as pd\n",
    "import numpy as np\n",
    "import os\n",
    "import matplotlib.pyplot as plt\n",
    "import seaborn as sns"
   ]
  },
  {
   "cell_type": "markdown",
   "metadata": {},
   "source": [
    "# LOAD DATA"
   ]
  },
  {
   "cell_type": "code",
   "execution_count": 2,
   "metadata": {
    "scrolled": true
   },
   "outputs": [
    {
     "data": {
      "text/plain": [
       "['diabetic_data.csv',\n",
       " 'huy_data.csv',\n",
       " 'IDs_mapping.csv',\n",
       " 'linh_data.csv',\n",
       " 'Preprocesingda_vyvu.csv',\n",
       " 'preprocessed_data.csv',\n",
       " 'test.csv',\n",
       " 'vy_data.csv']"
      ]
     },
     "execution_count": 2,
     "metadata": {},
     "output_type": "execute_result"
    }
   ],
   "source": [
    "# Change working directory to dataset folder\n",
    "os.chdir(\"E:/huy/data\") \n",
    "os.getcwd()\n",
    "os.listdir()"
   ]
  },
  {
   "cell_type": "code",
   "execution_count": 3,
   "metadata": {
    "scrolled": true
   },
   "outputs": [
    {
     "data": {
      "text/html": [
       "<div>\n",
       "<style scoped>\n",
       "    .dataframe tbody tr th:only-of-type {\n",
       "        vertical-align: middle;\n",
       "    }\n",
       "\n",
       "    .dataframe tbody tr th {\n",
       "        vertical-align: top;\n",
       "    }\n",
       "\n",
       "    .dataframe thead th {\n",
       "        text-align: right;\n",
       "    }\n",
       "</style>\n",
       "<table border=\"1\" class=\"dataframe\">\n",
       "  <thead>\n",
       "    <tr style=\"text-align: right;\">\n",
       "      <th></th>\n",
       "      <th>Unnamed: 0</th>\n",
       "      <th>patient_nbr</th>\n",
       "      <th>race</th>\n",
       "      <th>gender</th>\n",
       "      <th>age</th>\n",
       "      <th>admission_type_id</th>\n",
       "      <th>discharge_disposition_id</th>\n",
       "      <th>admission_source_id</th>\n",
       "      <th>time_in_hospital</th>\n",
       "      <th>num_lab_procedures</th>\n",
       "      <th>...</th>\n",
       "      <th>citoglipton</th>\n",
       "      <th>insulin</th>\n",
       "      <th>glyburide-metformin</th>\n",
       "      <th>glipizide-metformin</th>\n",
       "      <th>glimepiride-pioglitazone</th>\n",
       "      <th>metformin-rosiglitazone</th>\n",
       "      <th>metformin-pioglitazone</th>\n",
       "      <th>change</th>\n",
       "      <th>diabetesMed</th>\n",
       "      <th>readmitted</th>\n",
       "    </tr>\n",
       "  </thead>\n",
       "  <tbody>\n",
       "    <tr>\n",
       "      <th>101758</th>\n",
       "      <td>101761</td>\n",
       "      <td>100162476</td>\n",
       "      <td>AfricanAmerican</td>\n",
       "      <td>Male</td>\n",
       "      <td>[70-80)</td>\n",
       "      <td>1</td>\n",
       "      <td>3</td>\n",
       "      <td>7</td>\n",
       "      <td>3</td>\n",
       "      <td>51</td>\n",
       "      <td>...</td>\n",
       "      <td>No</td>\n",
       "      <td>Down</td>\n",
       "      <td>No</td>\n",
       "      <td>No</td>\n",
       "      <td>No</td>\n",
       "      <td>No</td>\n",
       "      <td>No</td>\n",
       "      <td>Ch</td>\n",
       "      <td>Yes</td>\n",
       "      <td>&gt;30</td>\n",
       "    </tr>\n",
       "    <tr>\n",
       "      <th>101759</th>\n",
       "      <td>101762</td>\n",
       "      <td>74694222</td>\n",
       "      <td>AfricanAmerican</td>\n",
       "      <td>Female</td>\n",
       "      <td>[80-90)</td>\n",
       "      <td>1</td>\n",
       "      <td>4</td>\n",
       "      <td>5</td>\n",
       "      <td>5</td>\n",
       "      <td>33</td>\n",
       "      <td>...</td>\n",
       "      <td>No</td>\n",
       "      <td>Steady</td>\n",
       "      <td>No</td>\n",
       "      <td>No</td>\n",
       "      <td>No</td>\n",
       "      <td>No</td>\n",
       "      <td>No</td>\n",
       "      <td>No</td>\n",
       "      <td>Yes</td>\n",
       "      <td>NO</td>\n",
       "    </tr>\n",
       "    <tr>\n",
       "      <th>101760</th>\n",
       "      <td>101763</td>\n",
       "      <td>41088789</td>\n",
       "      <td>Caucasian</td>\n",
       "      <td>Male</td>\n",
       "      <td>[70-80)</td>\n",
       "      <td>1</td>\n",
       "      <td>1</td>\n",
       "      <td>7</td>\n",
       "      <td>1</td>\n",
       "      <td>53</td>\n",
       "      <td>...</td>\n",
       "      <td>No</td>\n",
       "      <td>Down</td>\n",
       "      <td>No</td>\n",
       "      <td>No</td>\n",
       "      <td>No</td>\n",
       "      <td>No</td>\n",
       "      <td>No</td>\n",
       "      <td>Ch</td>\n",
       "      <td>Yes</td>\n",
       "      <td>NO</td>\n",
       "    </tr>\n",
       "    <tr>\n",
       "      <th>101761</th>\n",
       "      <td>101764</td>\n",
       "      <td>31693671</td>\n",
       "      <td>Caucasian</td>\n",
       "      <td>Female</td>\n",
       "      <td>[80-90)</td>\n",
       "      <td>2</td>\n",
       "      <td>3</td>\n",
       "      <td>7</td>\n",
       "      <td>10</td>\n",
       "      <td>45</td>\n",
       "      <td>...</td>\n",
       "      <td>No</td>\n",
       "      <td>Up</td>\n",
       "      <td>No</td>\n",
       "      <td>No</td>\n",
       "      <td>No</td>\n",
       "      <td>No</td>\n",
       "      <td>No</td>\n",
       "      <td>Ch</td>\n",
       "      <td>Yes</td>\n",
       "      <td>NO</td>\n",
       "    </tr>\n",
       "    <tr>\n",
       "      <th>101762</th>\n",
       "      <td>101765</td>\n",
       "      <td>175429310</td>\n",
       "      <td>Caucasian</td>\n",
       "      <td>Male</td>\n",
       "      <td>[70-80)</td>\n",
       "      <td>1</td>\n",
       "      <td>1</td>\n",
       "      <td>7</td>\n",
       "      <td>6</td>\n",
       "      <td>13</td>\n",
       "      <td>...</td>\n",
       "      <td>No</td>\n",
       "      <td>No</td>\n",
       "      <td>No</td>\n",
       "      <td>No</td>\n",
       "      <td>No</td>\n",
       "      <td>No</td>\n",
       "      <td>No</td>\n",
       "      <td>No</td>\n",
       "      <td>No</td>\n",
       "      <td>NO</td>\n",
       "    </tr>\n",
       "  </tbody>\n",
       "</table>\n",
       "<p>5 rows × 44 columns</p>\n",
       "</div>"
      ],
      "text/plain": [
       "        Unnamed: 0  patient_nbr             race  gender      age  \\\n",
       "101758      101761    100162476  AfricanAmerican    Male  [70-80)   \n",
       "101759      101762     74694222  AfricanAmerican  Female  [80-90)   \n",
       "101760      101763     41088789        Caucasian    Male  [70-80)   \n",
       "101761      101764     31693671        Caucasian  Female  [80-90)   \n",
       "101762      101765    175429310        Caucasian    Male  [70-80)   \n",
       "\n",
       "        admission_type_id  discharge_disposition_id  admission_source_id  \\\n",
       "101758                  1                         3                    7   \n",
       "101759                  1                         4                    5   \n",
       "101760                  1                         1                    7   \n",
       "101761                  2                         3                    7   \n",
       "101762                  1                         1                    7   \n",
       "\n",
       "        time_in_hospital  num_lab_procedures  ...  citoglipton  insulin  \\\n",
       "101758                 3                  51  ...           No     Down   \n",
       "101759                 5                  33  ...           No   Steady   \n",
       "101760                 1                  53  ...           No     Down   \n",
       "101761                10                  45  ...           No       Up   \n",
       "101762                 6                  13  ...           No       No   \n",
       "\n",
       "        glyburide-metformin  glipizide-metformin  glimepiride-pioglitazone  \\\n",
       "101758                   No                   No                        No   \n",
       "101759                   No                   No                        No   \n",
       "101760                   No                   No                        No   \n",
       "101761                   No                   No                        No   \n",
       "101762                   No                   No                        No   \n",
       "\n",
       "        metformin-rosiglitazone metformin-pioglitazone change diabetesMed  \\\n",
       "101758                       No                     No     Ch         Yes   \n",
       "101759                       No                     No     No         Yes   \n",
       "101760                       No                     No     Ch         Yes   \n",
       "101761                       No                     No     Ch         Yes   \n",
       "101762                       No                     No     No          No   \n",
       "\n",
       "       readmitted  \n",
       "101758        >30  \n",
       "101759         NO  \n",
       "101760         NO  \n",
       "101761         NO  \n",
       "101762         NO  \n",
       "\n",
       "[5 rows x 44 columns]"
      ]
     },
     "execution_count": 3,
     "metadata": {},
     "output_type": "execute_result"
    }
   ],
   "source": [
    "df = pd.read_csv('preprocessed_data.csv')\n",
    "df.tail()"
   ]
  },
  {
   "cell_type": "code",
   "execution_count": 4,
   "metadata": {
    "scrolled": true
   },
   "outputs": [
    {
     "name": "stdout",
     "output_type": "stream",
     "text": [
      "<class 'pandas.core.frame.DataFrame'>\n",
      "RangeIndex: 101763 entries, 0 to 101762\n",
      "Data columns (total 44 columns):\n",
      " #   Column                    Non-Null Count   Dtype \n",
      "---  ------                    --------------   ----- \n",
      " 0   Unnamed: 0                101763 non-null  int64 \n",
      " 1   patient_nbr               101763 non-null  int64 \n",
      " 2   race                      101763 non-null  object\n",
      " 3   gender                    101763 non-null  object\n",
      " 4   age                       101763 non-null  object\n",
      " 5   admission_type_id         101763 non-null  int64 \n",
      " 6   discharge_disposition_id  101763 non-null  int64 \n",
      " 7   admission_source_id       101763 non-null  int64 \n",
      " 8   time_in_hospital          101763 non-null  int64 \n",
      " 9   num_lab_procedures        101763 non-null  int64 \n",
      " 10  num_procedures            101763 non-null  int64 \n",
      " 11  num_medications           101763 non-null  int64 \n",
      " 12  number_outpatient         101763 non-null  int64 \n",
      " 13  number_emergency          101763 non-null  int64 \n",
      " 14  number_inpatient          101763 non-null  int64 \n",
      " 15  number_diagnoses          101763 non-null  int64 \n",
      " 16  max_glu_serum             101763 non-null  object\n",
      " 17  A1Cresult                 101763 non-null  object\n",
      " 18  metformin                 101763 non-null  object\n",
      " 19  repaglinide               101763 non-null  object\n",
      " 20  nateglinide               101763 non-null  object\n",
      " 21  chlorpropamide            101763 non-null  object\n",
      " 22  glimepiride               101763 non-null  object\n",
      " 23  acetohexamide             101763 non-null  object\n",
      " 24  glipizide                 101763 non-null  object\n",
      " 25  glyburide                 101763 non-null  object\n",
      " 26  tolbutamide               101763 non-null  object\n",
      " 27  pioglitazone              101763 non-null  object\n",
      " 28  rosiglitazone             101763 non-null  object\n",
      " 29  acarbose                  101763 non-null  object\n",
      " 30  miglitol                  101763 non-null  object\n",
      " 31  troglitazone              101763 non-null  object\n",
      " 32  tolazamide                101763 non-null  object\n",
      " 33  examide                   101763 non-null  object\n",
      " 34  citoglipton               101763 non-null  object\n",
      " 35  insulin                   101763 non-null  object\n",
      " 36  glyburide-metformin       101763 non-null  object\n",
      " 37  glipizide-metformin       101763 non-null  object\n",
      " 38  glimepiride-pioglitazone  101763 non-null  object\n",
      " 39  metformin-rosiglitazone   101763 non-null  object\n",
      " 40  metformin-pioglitazone    101763 non-null  object\n",
      " 41  change                    101763 non-null  object\n",
      " 42  diabetesMed               101763 non-null  object\n",
      " 43  readmitted                101763 non-null  object\n",
      "dtypes: int64(13), object(31)\n",
      "memory usage: 34.2+ MB\n"
     ]
    }
   ],
   "source": [
    "df.info() # admission_type_id , discharge_disposition_id, admission_source_id"
   ]
  },
  {
   "cell_type": "markdown",
   "metadata": {},
   "source": [
    "# RECODE DISCHARGE TYPE, ADMISSION TYPE, ADMISSION SOURCES"
   ]
  },
  {
   "cell_type": "code",
   "execution_count": 5,
   "metadata": {},
   "outputs": [
    {
     "data": {
      "text/plain": [
       "1      53988\n",
       "3      18868\n",
       "2      18480\n",
       "NaN    10396\n",
       "4         31\n",
       "Name: admission_type, dtype: int64"
      ]
     },
     "execution_count": 5,
     "metadata": {},
     "output_type": "execute_result"
    }
   ],
   "source": [
    "def admis_type(adtype):\n",
    "    if adtype == 7:\n",
    "        return 4\n",
    "    elif adtype ==6:\n",
    "        return 5\n",
    "    elif adtype == 8:\n",
    "            return 5\n",
    "    else:\n",
    "        return adtype\n",
    "\n",
    "df['admission_type'] = df['admission_type_id'].apply(admis_type)\n",
    "\n",
    "\n",
    "df['admission_type'] = np.where(df['admission_type'] == 5, 'NaN', df['admission_type'])\n",
    "df.head()\n",
    "\n",
    "\n",
    "df['admission_type'].value_counts()"
   ]
  },
  {
   "cell_type": "code",
   "execution_count": 6,
   "metadata": {},
   "outputs": [
    {
     "data": {
      "text/plain": [
       "1.0    60232\n",
       "3.0    13954\n",
       "5.0    13010\n",
       "NaN     7103\n",
       "6.0     2693\n",
       "2.0     2128\n",
       "4.0     2020\n",
       "7.0      623\n",
       "Name: discharge_type, dtype: int64"
      ]
     },
     "execution_count": 6,
     "metadata": {},
     "output_type": "execute_result"
    }
   ],
   "source": [
    "def discharge(dis):\n",
    "    if (dis == 5) or (dis == 9 ) :\n",
    "        return 4\n",
    "    elif (dis ==6) or (dis == 8) :\n",
    "            return 5\n",
    "    elif (dis == 10) or (dis ==12 ) or (dis == 15) or (dis == 16) or (dis == 17) or (dis == 22) or (dis ==23 ) or (dis ==24 ) or (dis == 27) or (dis ==28 ) :\n",
    "            return 6\n",
    "    elif (dis == 11) or (dis == 13) or (dis == 14) or (dis == 19) or (dis == 20) or (dis == 21) :\n",
    "            dis = 7\n",
    "    elif (dis == 18 ) or (dis == 25 ) or (dis == 26) or (dis == 30):\n",
    "            return 8\n",
    "    else:\n",
    "        return dis\n",
    "\n",
    "df['discharge_type'] = df['discharge_disposition_id'].apply(discharge)\n",
    "df['discharge_type'] = np.where(df['discharge_type'] == 8, 'NaN', df['discharge_type'])\n",
    "df['discharge_type'] = np.where(df['discharge_type'] == 'nan', 'NaN', df['discharge_type'])    \n",
    "\n",
    "\n",
    "\n",
    "df['discharge_type'].value_counts()"
   ]
  },
  {
   "cell_type": "code",
   "execution_count": 7,
   "metadata": {},
   "outputs": [
    {
     "data": {
      "text/plain": [
       "6      57515\n",
       "1      29564\n",
       "NaN     7067\n",
       "3       3207\n",
       "5       2264\n",
       "2       1291\n",
       "4        855\n",
       "Name: admission_source, dtype: int64"
      ]
     },
     "execution_count": 7,
     "metadata": {},
     "output_type": "execute_result"
    }
   ],
   "source": [
    "def admis_source (adm):\n",
    "    if (adm == 1) or (adm == 1 ) :\n",
    "        return 1\n",
    "    if (adm == 3)  :\n",
    "        return 2\n",
    "    if (adm == 4) or (adm == 10 ) or (adm == 22)  :\n",
    "        return 3\n",
    "    if (adm == 5) :\n",
    "        return 4\n",
    "    if (adm == 6) :\n",
    "        return 5\n",
    "    if (adm == 7) :\n",
    "        return 6\n",
    "    if (adm == 8) or (adm == 11 ) or (adm == 13)  or (adm == 14)   or (adm == 25) :\n",
    "        return 6\n",
    "    elif (adm ==9) or (adm ==17) or (adm == 20):\n",
    "            return 7\n",
    "    else:\n",
    "        return adm\n",
    "df['admission_source'] = df['admission_source_id'].apply(admis_source) \n",
    "\n",
    "df['admission_source'] = np.where(df['admission_source'] == 7, 'NaN', df['admission_source'])\n",
    "    \n",
    "df['admission_source'].value_counts()"
   ]
  },
  {
   "cell_type": "code",
   "execution_count": 8,
   "metadata": {},
   "outputs": [],
   "source": [
    "# Delete the missing data of admission_type, discharge_type, admission_source\n",
    "\n",
    "df = df[df.admission_type != 'NaN']\n",
    "df = df[df.discharge_type != '7.0'] # hospice\n",
    "df = df[df.discharge_type != 'NaN']\n",
    "df = df[df.admission_source != 'NaN']"
   ]
  },
  {
   "cell_type": "code",
   "execution_count": 9,
   "metadata": {},
   "outputs": [
    {
     "data": {
      "text/plain": [
       "6    51572\n",
       "1    25721\n",
       "3     2606\n",
       "5     2188\n",
       "2     1036\n",
       "4      692\n",
       "Name: admission_source, dtype: int64"
      ]
     },
     "execution_count": 9,
     "metadata": {},
     "output_type": "execute_result"
    }
   ],
   "source": [
    "df['admission_source'].value_counts()"
   ]
  },
  {
   "cell_type": "markdown",
   "metadata": {},
   "source": [
    "# CHISQUARE TEST: Age, Sex, race, admission_source, admission_type,  discharge_type"
   ]
  },
  {
   "cell_type": "code",
   "execution_count": 10,
   "metadata": {},
   "outputs": [],
   "source": [
    "import pandas as pd\n",
    "from scipy import stats\n",
    "from scipy.stats import chi2_contingency\n"
   ]
  },
  {
   "cell_type": "code",
   "execution_count": 11,
   "metadata": {},
   "outputs": [
    {
     "name": "stdout",
     "output_type": "stream",
     "text": [
      "stat=476.434, p-value=0.000\n"
     ]
    }
   ],
   "source": [
    "# Race and gender\n",
    "race_gender = pd.crosstab(\n",
    "    df['race'],\n",
    "    df['gender'],\n",
    "    margins = False)\n",
    "stat, pvalue, _, _ = chi2_contingency(race_gender)\n",
    "print('stat=%.3f, p-value=%.3f' % (stat, pvalue))"
   ]
  },
  {
   "cell_type": "code",
   "execution_count": 12,
   "metadata": {},
   "outputs": [
    {
     "name": "stdout",
     "output_type": "stream",
     "text": [
      "stat=3096.138, p-value=0.000\n"
     ]
    }
   ],
   "source": [
    "# Race and age\n",
    "race_age = pd.crosstab(\n",
    "    df['race'],\n",
    "    df['age'],\n",
    "    margins = False)\n",
    "stat, pvalue, _, _ = chi2_contingency(race_age)\n",
    "print('stat=%.3f, p-value=%.3f' % (stat, pvalue))"
   ]
  },
  {
   "cell_type": "code",
   "execution_count": 13,
   "metadata": {},
   "outputs": [
    {
     "name": "stdout",
     "output_type": "stream",
     "text": [
      "stat=723.095, p-value=0.000\n"
     ]
    }
   ],
   "source": [
    "# Race and discharge_type\n",
    "race_dis = pd.crosstab(\n",
    "    df['race'],\n",
    "    df['discharge_type'],\n",
    "    margins = False)\n",
    "stat, pvalue, _, _ = chi2_contingency(race_dis)\n",
    "print('stat=%.3f, p-value=%.3f' % (stat, pvalue))"
   ]
  },
  {
   "cell_type": "markdown",
   "metadata": {},
   "source": [
    "# BUILD LOGISTIC REGRESSION MODEL"
   ]
  },
  {
   "cell_type": "markdown",
   "metadata": {},
   "source": [
    "### UNIVARIATE LOGISTIC REGRESSION"
   ]
  },
  {
   "cell_type": "code",
   "execution_count": 14,
   "metadata": {},
   "outputs": [
    {
     "data": {
      "text/plain": [
       "NO     44398\n",
       ">30    29878\n",
       "<30     9539\n",
       "Name: readmitted, dtype: int64"
      ]
     },
     "execution_count": 14,
     "metadata": {},
     "output_type": "execute_result"
    }
   ],
   "source": [
    "df['readmitted'].value_counts()  # recode the outcome variables"
   ]
  },
  {
   "cell_type": "code",
   "execution_count": 15,
   "metadata": {},
   "outputs": [
    {
     "data": {
      "text/plain": [
       "0    74276\n",
       "1     9539\n",
       "Name: readmit_num, dtype: int64"
      ]
     },
     "execution_count": 15,
     "metadata": {},
     "output_type": "execute_result"
    }
   ],
   "source": [
    "# Recode the readmission: 0 - readmission <30 days, 1 - readmission > 30 days OR No readmission\n",
    "def readmit(red):\n",
    "    if red != '<30':\n",
    "        return 0\n",
    "    else:\n",
    "        return 1\n",
    "df['readmit_num']= df['readmitted'].apply(readmit)\n",
    "df['readmit_num'].value_counts()\n",
    "    "
   ]
  },
  {
   "cell_type": "code",
   "execution_count": 16,
   "metadata": {},
   "outputs": [],
   "source": [
    "import pandas as pd\n",
    "import statsmodels.formula.api as smf\n",
    "import patsy"
   ]
  },
  {
   "cell_type": "raw",
   "metadata": {},
   "source": [
    "# List of independent variables: \n",
    "'race', 'gender', 'age', admission_type, discharge_type , admission_source , 'discharge_disposition_id', 'admission_source_id',\n",
    "'time_in_hospital', 'num_lab_procedures', 'num_procedures', 'num_medications', 'number_outpatient', 'number_emergency',\n",
    "'number_inpatient',  diabetesMed, 'number_diagnoses', 'max_glu_serum', 'A1Cresult',"
   ]
  },
  {
   "cell_type": "code",
   "execution_count": 17,
   "metadata": {},
   "outputs": [
    {
     "name": "stdout",
     "output_type": "stream",
     "text": [
      "Optimization terminated successfully.\n",
      "         Current function value: 0.354250\n",
      "         Iterations 6\n"
     ]
    },
    {
     "data": {
      "text/html": [
       "<table class=\"simpletable\">\n",
       "<tr>\n",
       "        <td>Model:</td>              <td>Logit</td>      <td>Pseudo R-squared:</td>    <td>0.000</td>  \n",
       "</tr>\n",
       "<tr>\n",
       "  <td>Dependent Variable:</td>    <td>readmit_num</td>         <td>AIC:</td>        <td>59394.8528</td>\n",
       "</tr>\n",
       "<tr>\n",
       "         <td>Date:</td>        <td>2022-01-15 02:34</td>       <td>BIC:</td>        <td>59450.8710</td>\n",
       "</tr>\n",
       "<tr>\n",
       "   <td>No. Observations:</td>        <td>83815</td>       <td>Log-Likelihood:</td>    <td>-29691.</td> \n",
       "</tr>\n",
       "<tr>\n",
       "       <td>Df Model:</td>              <td>5</td>            <td>LL-Null:</td>        <td>-29705.</td> \n",
       "</tr>\n",
       "<tr>\n",
       "     <td>Df Residuals:</td>          <td>83809</td>        <td>LLR p-value:</td>    <td>6.9338e-05</td>\n",
       "</tr>\n",
       "<tr>\n",
       "      <td>Converged:</td>           <td>1.0000</td>           <td>Scale:</td>         <td>1.0000</td>  \n",
       "</tr>\n",
       "<tr>\n",
       "    <td>No. Iterations:</td>        <td>6.0000</td>              <td></td>               <td></td>     \n",
       "</tr>\n",
       "</table>\n",
       "<table class=\"simpletable\">\n",
       "<tr>\n",
       "             <td></td>              <th>Coef.</th>  <th>Std.Err.</th>     <th>z</th>     <th>P>|z|</th> <th>[0.025</th>  <th>0.975]</th> \n",
       "</tr>\n",
       "<tr>\n",
       "  <th>Intercept</th>               <td>-2.3613</td>  <td>0.0798</td>  <td>-29.6037</td> <td>0.0000</td> <td>-2.5176</td> <td>-2.2050</td>\n",
       "</tr>\n",
       "<tr>\n",
       "  <th>race[T.AfricanAmerican]</th> <td>0.3011</td>   <td>0.0835</td>   <td>3.6077</td>  <td>0.0003</td> <td>0.1375</td>  <td>0.4647</td> \n",
       "</tr>\n",
       "<tr>\n",
       "  <th>race[T.Asian]</th>           <td>0.2355</td>   <td>0.1602</td>   <td>1.4703</td>  <td>0.1415</td> <td>-0.0784</td> <td>0.5495</td> \n",
       "</tr>\n",
       "<tr>\n",
       "  <th>race[T.Caucasian]</th>       <td>0.3274</td>   <td>0.0807</td>   <td>4.0552</td>  <td>0.0001</td> <td>0.1692</td>  <td>0.4857</td> \n",
       "</tr>\n",
       "<tr>\n",
       "  <th>race[T.Hispanic]</th>        <td>0.1476</td>   <td>0.1179</td>   <td>1.2513</td>  <td>0.2108</td> <td>-0.0836</td> <td>0.3787</td> \n",
       "</tr>\n",
       "<tr>\n",
       "  <th>race[T.Other]</th>           <td>0.1193</td>   <td>0.1251</td>   <td>0.9536</td>  <td>0.3403</td> <td>-0.1259</td> <td>0.3646</td> \n",
       "</tr>\n",
       "</table>"
      ],
      "text/plain": [
       "<class 'statsmodels.iolib.summary2.Summary'>\n",
       "\"\"\"\n",
       "                             Results: Logit\n",
       "========================================================================\n",
       "Model:                 Logit              Pseudo R-squared:   0.000     \n",
       "Dependent Variable:    readmit_num        AIC:                59394.8528\n",
       "Date:                  2022-01-15 02:34   BIC:                59450.8710\n",
       "No. Observations:      83815              Log-Likelihood:     -29691.   \n",
       "Df Model:              5                  LL-Null:            -29705.   \n",
       "Df Residuals:          83809              LLR p-value:        6.9338e-05\n",
       "Converged:             1.0000             Scale:              1.0000    \n",
       "No. Iterations:        6.0000                                           \n",
       "------------------------------------------------------------------------\n",
       "                         Coef.  Std.Err.    z     P>|z|   [0.025  0.975]\n",
       "------------------------------------------------------------------------\n",
       "Intercept               -2.3613   0.0798 -29.6037 0.0000 -2.5176 -2.2050\n",
       "race[T.AfricanAmerican]  0.3011   0.0835   3.6077 0.0003  0.1375  0.4647\n",
       "race[T.Asian]            0.2355   0.1602   1.4703 0.1415 -0.0784  0.5495\n",
       "race[T.Caucasian]        0.3274   0.0807   4.0552 0.0001  0.1692  0.4857\n",
       "race[T.Hispanic]         0.1476   0.1179   1.2513 0.2108 -0.0836  0.3787\n",
       "race[T.Other]            0.1193   0.1251   0.9536 0.3403 -0.1259  0.3646\n",
       "========================================================================\n",
       "\n",
       "\"\"\""
      ]
     },
     "execution_count": 17,
     "metadata": {},
     "output_type": "execute_result"
    }
   ],
   "source": [
    "log_reg = smf.logit(\"readmit_num ~ race\", data=df).fit() \n",
    "log_reg.summary2()"
   ]
  },
  {
   "cell_type": "code",
   "execution_count": 18,
   "metadata": {},
   "outputs": [
    {
     "name": "stdout",
     "output_type": "stream",
     "text": [
      "Optimization terminated successfully.\n",
      "         Current function value: 0.354406\n",
      "         Iterations 6\n"
     ]
    },
    {
     "data": {
      "text/html": [
       "<table class=\"simpletable\">\n",
       "<tr>\n",
       "        <td>Model:</td>              <td>Logit</td>      <td>Pseudo R-squared:</td>    <td>0.000</td>  \n",
       "</tr>\n",
       "<tr>\n",
       "  <td>Dependent Variable:</td>    <td>readmit_num</td>         <td>AIC:</td>        <td>59413.0123</td>\n",
       "</tr>\n",
       "<tr>\n",
       "         <td>Date:</td>        <td>2022-01-15 02:34</td>       <td>BIC:</td>        <td>59431.6850</td>\n",
       "</tr>\n",
       "<tr>\n",
       "   <td>No. Observations:</td>        <td>83815</td>       <td>Log-Likelihood:</td>    <td>-29705.</td> \n",
       "</tr>\n",
       "<tr>\n",
       "       <td>Df Model:</td>              <td>1</td>            <td>LL-Null:</td>        <td>-29705.</td> \n",
       "</tr>\n",
       "<tr>\n",
       "     <td>Df Residuals:</td>          <td>83813</td>        <td>LLR p-value:</td>      <td>0.52463</td> \n",
       "</tr>\n",
       "<tr>\n",
       "      <td>Converged:</td>           <td>1.0000</td>           <td>Scale:</td>         <td>1.0000</td>  \n",
       "</tr>\n",
       "<tr>\n",
       "    <td>No. Iterations:</td>        <td>6.0000</td>              <td></td>               <td></td>     \n",
       "</tr>\n",
       "</table>\n",
       "<table class=\"simpletable\">\n",
       "<tr>\n",
       "         <td></td>         <th>Coef.</th>  <th>Std.Err.</th>     <th>z</th>      <th>P>|z|</th> <th>[0.025</th>  <th>0.975]</th> \n",
       "</tr>\n",
       "<tr>\n",
       "  <th>Intercept</th>      <td>-2.0460</td>  <td>0.0148</td>  <td>-138.6550</td> <td>0.0000</td> <td>-2.0750</td> <td>-2.0171</td>\n",
       "</tr>\n",
       "<tr>\n",
       "  <th>gender[T.Male]</th> <td>-0.0139</td>  <td>0.0218</td>   <td>-0.6361</td>  <td>0.5247</td> <td>-0.0567</td> <td>0.0289</td> \n",
       "</tr>\n",
       "</table>"
      ],
      "text/plain": [
       "<class 'statsmodels.iolib.summary2.Summary'>\n",
       "\"\"\"\n",
       "                         Results: Logit\n",
       "=================================================================\n",
       "Model:              Logit            Pseudo R-squared: 0.000     \n",
       "Dependent Variable: readmit_num      AIC:              59413.0123\n",
       "Date:               2022-01-15 02:34 BIC:              59431.6850\n",
       "No. Observations:   83815            Log-Likelihood:   -29705.   \n",
       "Df Model:           1                LL-Null:          -29705.   \n",
       "Df Residuals:       83813            LLR p-value:      0.52463   \n",
       "Converged:          1.0000           Scale:            1.0000    \n",
       "No. Iterations:     6.0000                                       \n",
       "-----------------------------------------------------------------\n",
       "                 Coef.  Std.Err.     z     P>|z|   [0.025  0.975]\n",
       "-----------------------------------------------------------------\n",
       "Intercept       -2.0460   0.0148 -138.6550 0.0000 -2.0750 -2.0171\n",
       "gender[T.Male]  -0.0139   0.0218   -0.6361 0.5247 -0.0567  0.0289\n",
       "=================================================================\n",
       "\n",
       "\"\"\""
      ]
     },
     "execution_count": 18,
     "metadata": {},
     "output_type": "execute_result"
    }
   ],
   "source": [
    "log_reg = smf.logit(\"readmit_num ~ gender\", data=df).fit() \n",
    "log_reg.summary2()"
   ]
  },
  {
   "cell_type": "code",
   "execution_count": 19,
   "metadata": {},
   "outputs": [
    {
     "data": {
      "text/plain": [
       "[70-80)     21033\n",
       "[60-70)     18824\n",
       "[50-60)     14435\n",
       "[80-90)     13994\n",
       "[40-50)      7966\n",
       "[30-40)      3157\n",
       "[90-100)     2219\n",
       "[20-30)      1420\n",
       "[10-20)       622\n",
       "[0-10)        145\n",
       "Name: age, dtype: int64"
      ]
     },
     "execution_count": 19,
     "metadata": {},
     "output_type": "execute_result"
    }
   ],
   "source": [
    "df['age'].value_counts()"
   ]
  },
  {
   "cell_type": "code",
   "execution_count": 20,
   "metadata": {},
   "outputs": [
    {
     "name": "stdout",
     "output_type": "stream",
     "text": [
      "Optimization terminated successfully.\n",
      "         Current function value: 0.353548\n",
      "         Iterations 8\n",
      "                        OR  Lower CI   Upper CI\n",
      "Intercept         0.013986  0.003464   0.056465\n",
      "age[T.[10-20)]    4.522222  1.077277  18.983507\n",
      "age[T.[20-30)]   11.789582  2.897072  47.977481\n",
      "age[T.[30-40)]    8.943870  2.205605  36.267966\n",
      "age[T.[40-50)]    8.405864  2.078265  33.998814\n",
      "age[T.[50-60)]    7.612563  1.883520  30.767461\n",
      "age[T.[60-70)]    9.064827  2.243659  36.623700\n",
      "age[T.[70-80)]    9.886487  2.447321  39.938616\n",
      "age[T.[80-90)]   10.433426  2.582010  42.159552\n",
      "age[T.[90-100)]   9.738351  2.398020  39.547407\n"
     ]
    }
   ],
   "source": [
    "log_reg = smf.logit(\"readmit_num ~ age\", data=df).fit() \n",
    "log_reg.summary2()\n",
    "odds_ratios = pd.DataFrame(\n",
    "    {\n",
    "        \"OR\": log_reg.params,\n",
    "        \"Lower CI\": log_reg.conf_int()[0],\n",
    "        \"Upper CI\": log_reg.conf_int()[1],\n",
    "    }\n",
    ")\n",
    "odds_ratios = np.exp(odds_ratios)\n",
    "print(odds_ratios)"
   ]
  },
  {
   "cell_type": "code",
   "execution_count": 21,
   "metadata": {},
   "outputs": [
    {
     "name": "stdout",
     "output_type": "stream",
     "text": [
      "Optimization terminated successfully.\n",
      "         Current function value: 0.354236\n",
      "         Iterations 7\n"
     ]
    },
    {
     "data": {
      "text/html": [
       "<table class=\"simpletable\">\n",
       "<tr>\n",
       "        <td>Model:</td>              <td>Logit</td>      <td>Pseudo R-squared:</td>    <td>0.000</td>  \n",
       "</tr>\n",
       "<tr>\n",
       "  <td>Dependent Variable:</td>    <td>readmit_num</td>         <td>AIC:</td>        <td>59388.5517</td>\n",
       "</tr>\n",
       "<tr>\n",
       "         <td>Date:</td>        <td>2022-01-15 02:34</td>       <td>BIC:</td>        <td>59425.8972</td>\n",
       "</tr>\n",
       "<tr>\n",
       "   <td>No. Observations:</td>        <td>83815</td>       <td>Log-Likelihood:</td>    <td>-29690.</td> \n",
       "</tr>\n",
       "<tr>\n",
       "       <td>Df Model:</td>              <td>3</td>            <td>LL-Null:</td>        <td>-29705.</td> \n",
       "</tr>\n",
       "<tr>\n",
       "     <td>Df Residuals:</td>          <td>83811</td>        <td>LLR p-value:</td>    <td>2.3902e-06</td>\n",
       "</tr>\n",
       "<tr>\n",
       "      <td>Converged:</td>           <td>1.0000</td>           <td>Scale:</td>         <td>1.0000</td>  \n",
       "</tr>\n",
       "<tr>\n",
       "    <td>No. Iterations:</td>        <td>7.0000</td>              <td></td>               <td></td>     \n",
       "</tr>\n",
       "</table>\n",
       "<table class=\"simpletable\">\n",
       "<tr>\n",
       "           <td></td>            <th>Coef.</th>  <th>Std.Err.</th>     <th>z</th>      <th>P>|z|</th> <th>[0.025</th>  <th>0.975]</th> \n",
       "</tr>\n",
       "<tr>\n",
       "  <th>Intercept</th>           <td>-2.0133</td>  <td>0.0140</td>  <td>-143.9284</td> <td>0.0000</td> <td>-2.0407</td> <td>-1.9859</td>\n",
       "</tr>\n",
       "<tr>\n",
       "  <th>admission_type[T.2]</th> <td>-0.0476</td>  <td>0.0280</td>   <td>-1.7011</td>  <td>0.0889</td> <td>-0.1024</td> <td>0.0072</td> \n",
       "</tr>\n",
       "<tr>\n",
       "  <th>admission_type[T.3]</th> <td>-0.1448</td>  <td>0.0284</td>   <td>-5.0942</td>  <td>0.0000</td> <td>-0.2005</td> <td>-0.0891</td>\n",
       "</tr>\n",
       "<tr>\n",
       "  <th>admission_type[T.4]</th> <td>-1.2825</td>  <td>1.0184</td>   <td>-1.2593</td>  <td>0.2079</td> <td>-3.2786</td> <td>0.7136</td> \n",
       "</tr>\n",
       "</table>"
      ],
      "text/plain": [
       "<class 'statsmodels.iolib.summary2.Summary'>\n",
       "\"\"\"\n",
       "                           Results: Logit\n",
       "=====================================================================\n",
       "Model:                Logit             Pseudo R-squared:  0.000     \n",
       "Dependent Variable:   readmit_num       AIC:               59388.5517\n",
       "Date:                 2022-01-15 02:34  BIC:               59425.8972\n",
       "No. Observations:     83815             Log-Likelihood:    -29690.   \n",
       "Df Model:             3                 LL-Null:           -29705.   \n",
       "Df Residuals:         83811             LLR p-value:       2.3902e-06\n",
       "Converged:            1.0000            Scale:             1.0000    \n",
       "No. Iterations:       7.0000                                         \n",
       "---------------------------------------------------------------------\n",
       "                     Coef.  Std.Err.     z     P>|z|   [0.025  0.975]\n",
       "---------------------------------------------------------------------\n",
       "Intercept           -2.0133   0.0140 -143.9284 0.0000 -2.0407 -1.9859\n",
       "admission_type[T.2] -0.0476   0.0280   -1.7011 0.0889 -0.1024  0.0072\n",
       "admission_type[T.3] -0.1448   0.0284   -5.0942 0.0000 -0.2005 -0.0891\n",
       "admission_type[T.4] -1.2825   1.0184   -1.2593 0.2079 -3.2786  0.7136\n",
       "=====================================================================\n",
       "\n",
       "\"\"\""
      ]
     },
     "execution_count": 21,
     "metadata": {},
     "output_type": "execute_result"
    }
   ],
   "source": [
    "log_reg = smf.logit(\"readmit_num ~ admission_type\", data=df).fit() \n",
    "log_reg.summary2()"
   ]
  },
  {
   "cell_type": "code",
   "execution_count": 22,
   "metadata": {},
   "outputs": [
    {
     "name": "stdout",
     "output_type": "stream",
     "text": [
      "Optimization terminated successfully.\n",
      "         Current function value: 0.349166\n",
      "         Iterations 6\n"
     ]
    },
    {
     "data": {
      "text/html": [
       "<table class=\"simpletable\">\n",
       "<tr>\n",
       "        <td>Model:</td>              <td>Logit</td>      <td>Pseudo R-squared:</td>    <td>0.015</td>   \n",
       "</tr>\n",
       "<tr>\n",
       "  <td>Dependent Variable:</td>    <td>readmit_num</td>         <td>AIC:</td>        <td>58542.6431</td> \n",
       "</tr>\n",
       "<tr>\n",
       "         <td>Date:</td>        <td>2022-01-15 02:34</td>       <td>BIC:</td>        <td>58598.6613</td> \n",
       "</tr>\n",
       "<tr>\n",
       "   <td>No. Observations:</td>        <td>83815</td>       <td>Log-Likelihood:</td>    <td>-29265.</td>  \n",
       "</tr>\n",
       "<tr>\n",
       "       <td>Df Model:</td>              <td>5</td>            <td>LL-Null:</td>        <td>-29705.</td>  \n",
       "</tr>\n",
       "<tr>\n",
       "     <td>Df Residuals:</td>          <td>83809</td>        <td>LLR p-value:</td>    <td>1.0442e-187</td>\n",
       "</tr>\n",
       "<tr>\n",
       "      <td>Converged:</td>           <td>1.0000</td>           <td>Scale:</td>         <td>1.0000</td>   \n",
       "</tr>\n",
       "<tr>\n",
       "    <td>No. Iterations:</td>        <td>6.0000</td>              <td></td>               <td></td>      \n",
       "</tr>\n",
       "</table>\n",
       "<table class=\"simpletable\">\n",
       "<tr>\n",
       "            <td></td>             <th>Coef.</th>  <th>Std.Err.</th>     <th>z</th>      <th>P>|z|</th> <th>[0.025</th>  <th>0.975]</th> \n",
       "</tr>\n",
       "<tr>\n",
       "  <th>Intercept</th>             <td>-2.2723</td>  <td>0.0147</td>  <td>-154.4951</td> <td>0.0000</td> <td>-2.3012</td> <td>-2.2435</td>\n",
       "</tr>\n",
       "<tr>\n",
       "  <th>discharge_type[T.2.0]</th> <td>0.6896</td>   <td>0.0640</td>   <td>10.7803</td>  <td>0.0000</td> <td>0.5642</td>  <td>0.8150</td> \n",
       "</tr>\n",
       "<tr>\n",
       "  <th>discharge_type[T.3.0]</th> <td>0.5104</td>   <td>0.0299</td>   <td>17.0710</td>  <td>0.0000</td> <td>0.4518</td>  <td>0.5690</td> \n",
       "</tr>\n",
       "<tr>\n",
       "  <th>discharge_type[T.4.0]</th> <td>0.7129</td>   <td>0.0632</td>   <td>11.2740</td>  <td>0.0000</td> <td>0.5889</td>  <td>0.8368</td> \n",
       "</tr>\n",
       "<tr>\n",
       "  <th>discharge_type[T.5.0]</th> <td>0.3453</td>   <td>0.0319</td>   <td>10.8251</td>  <td>0.0000</td> <td>0.2828</td>  <td>0.4078</td> \n",
       "</tr>\n",
       "<tr>\n",
       "  <th>discharge_type[T.6.0]</th> <td>1.2119</td>   <td>0.0478</td>   <td>25.3382</td>  <td>0.0000</td> <td>1.1181</td>  <td>1.3056</td> \n",
       "</tr>\n",
       "</table>"
      ],
      "text/plain": [
       "<class 'statsmodels.iolib.summary2.Summary'>\n",
       "\"\"\"\n",
       "                            Results: Logit\n",
       "=======================================================================\n",
       "Model:                 Logit             Pseudo R-squared:  0.015      \n",
       "Dependent Variable:    readmit_num       AIC:               58542.6431 \n",
       "Date:                  2022-01-15 02:34  BIC:               58598.6613 \n",
       "No. Observations:      83815             Log-Likelihood:    -29265.    \n",
       "Df Model:              5                 LL-Null:           -29705.    \n",
       "Df Residuals:          83809             LLR p-value:       1.0442e-187\n",
       "Converged:             1.0000            Scale:             1.0000     \n",
       "No. Iterations:        6.0000                                          \n",
       "-----------------------------------------------------------------------\n",
       "                       Coef.  Std.Err.     z     P>|z|   [0.025  0.975]\n",
       "-----------------------------------------------------------------------\n",
       "Intercept             -2.2723   0.0147 -154.4951 0.0000 -2.3012 -2.2435\n",
       "discharge_type[T.2.0]  0.6896   0.0640   10.7803 0.0000  0.5642  0.8150\n",
       "discharge_type[T.3.0]  0.5104   0.0299   17.0710 0.0000  0.4518  0.5690\n",
       "discharge_type[T.4.0]  0.7129   0.0632   11.2740 0.0000  0.5889  0.8368\n",
       "discharge_type[T.5.0]  0.3453   0.0319   10.8251 0.0000  0.2828  0.4078\n",
       "discharge_type[T.6.0]  1.2119   0.0478   25.3382 0.0000  1.1181  1.3056\n",
       "=======================================================================\n",
       "\n",
       "\"\"\""
      ]
     },
     "execution_count": 22,
     "metadata": {},
     "output_type": "execute_result"
    }
   ],
   "source": [
    "log_reg = smf.logit(\"readmit_num ~ discharge_type\", data=df).fit() \n",
    "log_reg.summary2()"
   ]
  },
  {
   "cell_type": "code",
   "execution_count": 23,
   "metadata": {},
   "outputs": [
    {
     "name": "stdout",
     "output_type": "stream",
     "text": [
      "Optimization terminated successfully.\n",
      "         Current function value: 0.354160\n",
      "         Iterations 6\n"
     ]
    },
    {
     "data": {
      "text/html": [
       "<table class=\"simpletable\">\n",
       "<tr>\n",
       "        <td>Model:</td>              <td>Logit</td>      <td>Pseudo R-squared:</td>    <td>0.001</td>  \n",
       "</tr>\n",
       "<tr>\n",
       "  <td>Dependent Variable:</td>    <td>readmit_num</td>         <td>AIC:</td>        <td>59379.8579</td>\n",
       "</tr>\n",
       "<tr>\n",
       "         <td>Date:</td>        <td>2022-01-15 02:34</td>       <td>BIC:</td>        <td>59435.8761</td>\n",
       "</tr>\n",
       "<tr>\n",
       "   <td>No. Observations:</td>        <td>83815</td>       <td>Log-Likelihood:</td>    <td>-29684.</td> \n",
       "</tr>\n",
       "<tr>\n",
       "       <td>Df Model:</td>              <td>5</td>            <td>LL-Null:</td>        <td>-29705.</td> \n",
       "</tr>\n",
       "<tr>\n",
       "     <td>Df Residuals:</td>          <td>83809</td>        <td>LLR p-value:</td>    <td>7.2329e-08</td>\n",
       "</tr>\n",
       "<tr>\n",
       "      <td>Converged:</td>           <td>1.0000</td>           <td>Scale:</td>         <td>1.0000</td>  \n",
       "</tr>\n",
       "<tr>\n",
       "    <td>No. Iterations:</td>        <td>6.0000</td>              <td></td>               <td></td>     \n",
       "</tr>\n",
       "</table>\n",
       "<table class=\"simpletable\">\n",
       "<tr>\n",
       "            <td></td>             <th>Coef.</th>  <th>Std.Err.</th>     <th>z</th>      <th>P>|z|</th> <th>[0.025</th>  <th>0.975]</th> \n",
       "</tr>\n",
       "<tr>\n",
       "  <th>Intercept</th>             <td>-2.1149</td>  <td>0.0201</td>  <td>-105.1288</td> <td>0.0000</td> <td>-2.1543</td> <td>-2.0755</td>\n",
       "</tr>\n",
       "<tr>\n",
       "  <th>admission_source[T.2]</th> <td>0.0344</td>   <td>0.1009</td>   <td>0.3408</td>   <td>0.7333</td> <td>-0.1634</td> <td>0.2322</td> \n",
       "</tr>\n",
       "<tr>\n",
       "  <th>admission_source[T.3]</th> <td>-0.1372</td>  <td>0.0697</td>   <td>-1.9681</td>  <td>0.0491</td> <td>-0.2739</td> <td>-0.0006</td>\n",
       "</tr>\n",
       "<tr>\n",
       "  <th>admission_source[T.4]</th> <td>0.1756</td>   <td>0.1164</td>   <td>1.5084</td>   <td>0.1314</td> <td>-0.0526</td> <td>0.4038</td> \n",
       "</tr>\n",
       "<tr>\n",
       "  <th>admission_source[T.5]</th> <td>-0.1598</td>  <td>0.0762</td>   <td>-2.0968</td>  <td>0.0360</td> <td>-0.3092</td> <td>-0.0104</td>\n",
       "</tr>\n",
       "<tr>\n",
       "  <th>admission_source[T.6]</th> <td>0.1091</td>   <td>0.0243</td>   <td>4.4900</td>   <td>0.0000</td> <td>0.0615</td>  <td>0.1567</td> \n",
       "</tr>\n",
       "</table>"
      ],
      "text/plain": [
       "<class 'statsmodels.iolib.summary2.Summary'>\n",
       "\"\"\"\n",
       "                            Results: Logit\n",
       "=======================================================================\n",
       "Model:                Logit              Pseudo R-squared:   0.001     \n",
       "Dependent Variable:   readmit_num        AIC:                59379.8579\n",
       "Date:                 2022-01-15 02:34   BIC:                59435.8761\n",
       "No. Observations:     83815              Log-Likelihood:     -29684.   \n",
       "Df Model:             5                  LL-Null:            -29705.   \n",
       "Df Residuals:         83809              LLR p-value:        7.2329e-08\n",
       "Converged:            1.0000             Scale:              1.0000    \n",
       "No. Iterations:       6.0000                                           \n",
       "-----------------------------------------------------------------------\n",
       "                       Coef.  Std.Err.     z     P>|z|   [0.025  0.975]\n",
       "-----------------------------------------------------------------------\n",
       "Intercept             -2.1149   0.0201 -105.1288 0.0000 -2.1543 -2.0755\n",
       "admission_source[T.2]  0.0344   0.1009    0.3408 0.7333 -0.1634  0.2322\n",
       "admission_source[T.3] -0.1372   0.0697   -1.9681 0.0491 -0.2739 -0.0006\n",
       "admission_source[T.4]  0.1756   0.1164    1.5084 0.1314 -0.0526  0.4038\n",
       "admission_source[T.5] -0.1598   0.0762   -2.0968 0.0360 -0.3092 -0.0104\n",
       "admission_source[T.6]  0.1091   0.0243    4.4900 0.0000  0.0615  0.1567\n",
       "=======================================================================\n",
       "\n",
       "\"\"\""
      ]
     },
     "execution_count": 23,
     "metadata": {},
     "output_type": "execute_result"
    }
   ],
   "source": [
    "log_reg = smf.logit(\"readmit_num ~ admission_source\", data=df).fit() \n",
    "log_reg.summary2()"
   ]
  },
  {
   "cell_type": "code",
   "execution_count": 24,
   "metadata": {},
   "outputs": [
    {
     "name": "stdout",
     "output_type": "stream",
     "text": [
      "Optimization terminated successfully.\n",
      "         Current function value: 0.353374\n",
      "         Iterations 6\n"
     ]
    },
    {
     "data": {
      "text/html": [
       "<table class=\"simpletable\">\n",
       "<tr>\n",
       "        <td>Model:</td>              <td>Logit</td>      <td>Pseudo R-squared:</td>    <td>0.003</td>  \n",
       "</tr>\n",
       "<tr>\n",
       "  <td>Dependent Variable:</td>    <td>readmit_num</td>         <td>AIC:</td>        <td>59240.1529</td>\n",
       "</tr>\n",
       "<tr>\n",
       "         <td>Date:</td>        <td>2022-01-15 02:34</td>       <td>BIC:</td>        <td>59258.8256</td>\n",
       "</tr>\n",
       "<tr>\n",
       "   <td>No. Observations:</td>        <td>83815</td>       <td>Log-Likelihood:</td>    <td>-29618.</td> \n",
       "</tr>\n",
       "<tr>\n",
       "       <td>Df Model:</td>              <td>1</td>            <td>LL-Null:</td>        <td>-29705.</td> \n",
       "</tr>\n",
       "<tr>\n",
       "     <td>Df Residuals:</td>          <td>83813</td>        <td>LLR p-value:</td>    <td>1.4331e-39</td>\n",
       "</tr>\n",
       "<tr>\n",
       "      <td>Converged:</td>           <td>1.0000</td>           <td>Scale:</td>         <td>1.0000</td>  \n",
       "</tr>\n",
       "<tr>\n",
       "    <td>No. Iterations:</td>        <td>6.0000</td>              <td></td>               <td></td>     \n",
       "</tr>\n",
       "</table>\n",
       "<table class=\"simpletable\">\n",
       "<tr>\n",
       "          <td></td>          <th>Coef.</th>  <th>Std.Err.</th>     <th>z</th>      <th>P>|z|</th> <th>[0.025</th>  <th>0.975]</th> \n",
       "</tr>\n",
       "<tr>\n",
       "  <th>Intercept</th>        <td>-2.2636</td>  <td>0.0196</td>  <td>-115.2688</td> <td>0.0000</td> <td>-2.3021</td> <td>-2.2251</td>\n",
       "</tr>\n",
       "<tr>\n",
       "  <th>time_in_hospital</th> <td>0.0466</td>   <td>0.0035</td>   <td>13.3941</td>  <td>0.0000</td> <td>0.0398</td>  <td>0.0534</td> \n",
       "</tr>\n",
       "</table>"
      ],
      "text/plain": [
       "<class 'statsmodels.iolib.summary2.Summary'>\n",
       "\"\"\"\n",
       "                          Results: Logit\n",
       "==================================================================\n",
       "Model:               Logit            Pseudo R-squared: 0.003     \n",
       "Dependent Variable:  readmit_num      AIC:              59240.1529\n",
       "Date:                2022-01-15 02:34 BIC:              59258.8256\n",
       "No. Observations:    83815            Log-Likelihood:   -29618.   \n",
       "Df Model:            1                LL-Null:          -29705.   \n",
       "Df Residuals:        83813            LLR p-value:      1.4331e-39\n",
       "Converged:           1.0000           Scale:            1.0000    \n",
       "No. Iterations:      6.0000                                       \n",
       "------------------------------------------------------------------\n",
       "                  Coef.  Std.Err.     z     P>|z|   [0.025  0.975]\n",
       "------------------------------------------------------------------\n",
       "Intercept        -2.2636   0.0196 -115.2688 0.0000 -2.3021 -2.2251\n",
       "time_in_hospital  0.0466   0.0035   13.3941 0.0000  0.0398  0.0534\n",
       "==================================================================\n",
       "\n",
       "\"\"\""
      ]
     },
     "execution_count": 24,
     "metadata": {},
     "output_type": "execute_result"
    }
   ],
   "source": [
    "log_reg = smf.logit(\"readmit_num ~ time_in_hospital\", data=df).fit() \n",
    "log_reg.summary2()"
   ]
  },
  {
   "cell_type": "code",
   "execution_count": 25,
   "metadata": {},
   "outputs": [
    {
     "name": "stdout",
     "output_type": "stream",
     "text": [
      "Optimization terminated successfully.\n",
      "         Current function value: 0.354085\n",
      "         Iterations 6\n"
     ]
    },
    {
     "data": {
      "text/html": [
       "<table class=\"simpletable\">\n",
       "<tr>\n",
       "        <td>Model:</td>              <td>Logit</td>      <td>Pseudo R-squared:</td>    <td>0.001</td>  \n",
       "</tr>\n",
       "<tr>\n",
       "  <td>Dependent Variable:</td>    <td>readmit_num</td>         <td>AIC:</td>        <td>59359.1865</td>\n",
       "</tr>\n",
       "<tr>\n",
       "         <td>Date:</td>        <td>2022-01-15 02:34</td>       <td>BIC:</td>        <td>59377.8592</td>\n",
       "</tr>\n",
       "<tr>\n",
       "   <td>No. Observations:</td>        <td>83815</td>       <td>Log-Likelihood:</td>    <td>-29678.</td> \n",
       "</tr>\n",
       "<tr>\n",
       "       <td>Df Model:</td>              <td>1</td>            <td>LL-Null:</td>        <td>-29705.</td> \n",
       "</tr>\n",
       "<tr>\n",
       "     <td>Df Residuals:</td>          <td>83813</td>        <td>LLR p-value:</td>    <td>1.7829e-13</td>\n",
       "</tr>\n",
       "<tr>\n",
       "      <td>Converged:</td>           <td>1.0000</td>           <td>Scale:</td>         <td>1.0000</td>  \n",
       "</tr>\n",
       "<tr>\n",
       "    <td>No. Iterations:</td>        <td>6.0000</td>              <td></td>               <td></td>     \n",
       "</tr>\n",
       "</table>\n",
       "<table class=\"simpletable\">\n",
       "<tr>\n",
       "           <td></td>           <th>Coef.</th>  <th>Std.Err.</th>     <th>z</th>     <th>P>|z|</th> <th>[0.025</th>  <th>0.975]</th> \n",
       "</tr>\n",
       "<tr>\n",
       "  <th>Intercept</th>          <td>-2.2365</td>  <td>0.0277</td>  <td>-80.8451</td> <td>0.0000</td> <td>-2.2907</td> <td>-2.1822</td>\n",
       "</tr>\n",
       "<tr>\n",
       "  <th>num_lab_procedures</th> <td>0.0042</td>   <td>0.0006</td>   <td>7.3346</td>  <td>0.0000</td> <td>0.0031</td>  <td>0.0053</td> \n",
       "</tr>\n",
       "</table>"
      ],
      "text/plain": [
       "<class 'statsmodels.iolib.summary2.Summary'>\n",
       "\"\"\"\n",
       "                          Results: Logit\n",
       "===================================================================\n",
       "Model:                Logit            Pseudo R-squared: 0.001     \n",
       "Dependent Variable:   readmit_num      AIC:              59359.1865\n",
       "Date:                 2022-01-15 02:34 BIC:              59377.8592\n",
       "No. Observations:     83815            Log-Likelihood:   -29678.   \n",
       "Df Model:             1                LL-Null:          -29705.   \n",
       "Df Residuals:         83813            LLR p-value:      1.7829e-13\n",
       "Converged:            1.0000           Scale:            1.0000    \n",
       "No. Iterations:       6.0000                                       \n",
       "-------------------------------------------------------------------\n",
       "                    Coef.  Std.Err.    z     P>|z|   [0.025  0.975]\n",
       "-------------------------------------------------------------------\n",
       "Intercept          -2.2365   0.0277 -80.8451 0.0000 -2.2907 -2.1822\n",
       "num_lab_procedures  0.0042   0.0006   7.3346 0.0000  0.0031  0.0053\n",
       "===================================================================\n",
       "\n",
       "\"\"\""
      ]
     },
     "execution_count": 25,
     "metadata": {},
     "output_type": "execute_result"
    }
   ],
   "source": [
    "log_reg = smf.logit(\"readmit_num ~ num_lab_procedures\", data=df).fit() \n",
    "log_reg.summary2()"
   ]
  },
  {
   "cell_type": "code",
   "execution_count": 26,
   "metadata": {},
   "outputs": [
    {
     "name": "stdout",
     "output_type": "stream",
     "text": [
      "Optimization terminated successfully.\n",
      "         Current function value: 0.354331\n",
      "         Iterations 6\n"
     ]
    },
    {
     "data": {
      "text/html": [
       "<table class=\"simpletable\">\n",
       "<tr>\n",
       "        <td>Model:</td>              <td>Logit</td>      <td>Pseudo R-squared:</td>    <td>0.000</td>  \n",
       "</tr>\n",
       "<tr>\n",
       "  <td>Dependent Variable:</td>    <td>readmit_num</td>         <td>AIC:</td>        <td>59400.5417</td>\n",
       "</tr>\n",
       "<tr>\n",
       "         <td>Date:</td>        <td>2022-01-15 02:34</td>       <td>BIC:</td>        <td>59419.2144</td>\n",
       "</tr>\n",
       "<tr>\n",
       "   <td>No. Observations:</td>        <td>83815</td>       <td>Log-Likelihood:</td>    <td>-29698.</td> \n",
       "</tr>\n",
       "<tr>\n",
       "       <td>Df Model:</td>              <td>1</td>            <td>LL-Null:</td>        <td>-29705.</td> \n",
       "</tr>\n",
       "<tr>\n",
       "     <td>Df Residuals:</td>          <td>83813</td>        <td>LLR p-value:</td>    <td>0.00033294</td>\n",
       "</tr>\n",
       "<tr>\n",
       "      <td>Converged:</td>           <td>1.0000</td>           <td>Scale:</td>         <td>1.0000</td>  \n",
       "</tr>\n",
       "<tr>\n",
       "    <td>No. Iterations:</td>        <td>6.0000</td>              <td></td>               <td></td>     \n",
       "</tr>\n",
       "</table>\n",
       "<table class=\"simpletable\">\n",
       "<tr>\n",
       "         <td></td>         <th>Coef.</th>  <th>Std.Err.</th>     <th>z</th>      <th>P>|z|</th> <th>[0.025</th>  <th>0.975]</th> \n",
       "</tr>\n",
       "<tr>\n",
       "  <th>Intercept</th>      <td>-2.0220</td>  <td>0.0137</td>  <td>-147.4445</td> <td>0.0000</td> <td>-2.0489</td> <td>-1.9952</td>\n",
       "</tr>\n",
       "<tr>\n",
       "  <th>num_procedures</th> <td>-0.0231</td>  <td>0.0065</td>   <td>-3.5632</td>  <td>0.0004</td> <td>-0.0359</td> <td>-0.0104</td>\n",
       "</tr>\n",
       "</table>"
      ],
      "text/plain": [
       "<class 'statsmodels.iolib.summary2.Summary'>\n",
       "\"\"\"\n",
       "                         Results: Logit\n",
       "=================================================================\n",
       "Model:              Logit            Pseudo R-squared: 0.000     \n",
       "Dependent Variable: readmit_num      AIC:              59400.5417\n",
       "Date:               2022-01-15 02:34 BIC:              59419.2144\n",
       "No. Observations:   83815            Log-Likelihood:   -29698.   \n",
       "Df Model:           1                LL-Null:          -29705.   \n",
       "Df Residuals:       83813            LLR p-value:      0.00033294\n",
       "Converged:          1.0000           Scale:            1.0000    \n",
       "No. Iterations:     6.0000                                       \n",
       "-----------------------------------------------------------------\n",
       "                 Coef.  Std.Err.     z     P>|z|   [0.025  0.975]\n",
       "-----------------------------------------------------------------\n",
       "Intercept       -2.0220   0.0137 -147.4445 0.0000 -2.0489 -1.9952\n",
       "num_procedures  -0.0231   0.0065   -3.5632 0.0004 -0.0359 -0.0104\n",
       "=================================================================\n",
       "\n",
       "\"\"\""
      ]
     },
     "execution_count": 26,
     "metadata": {},
     "output_type": "execute_result"
    }
   ],
   "source": [
    "log_reg = smf.logit(\"readmit_num ~ num_procedures\", data=df).fit() \n",
    "log_reg.summary2()"
   ]
  },
  {
   "cell_type": "code",
   "execution_count": 27,
   "metadata": {},
   "outputs": [
    {
     "name": "stdout",
     "output_type": "stream",
     "text": [
      "Optimization terminated successfully.\n",
      "         Current function value: 0.353581\n",
      "         Iterations 6\n"
     ]
    },
    {
     "data": {
      "text/html": [
       "<table class=\"simpletable\">\n",
       "<tr>\n",
       "        <td>Model:</td>              <td>Logit</td>      <td>Pseudo R-squared:</td>    <td>0.002</td>  \n",
       "</tr>\n",
       "<tr>\n",
       "  <td>Dependent Variable:</td>    <td>readmit_num</td>         <td>AIC:</td>        <td>59274.7724</td>\n",
       "</tr>\n",
       "<tr>\n",
       "         <td>Date:</td>        <td>2022-01-15 02:34</td>       <td>BIC:</td>        <td>59293.4451</td>\n",
       "</tr>\n",
       "<tr>\n",
       "   <td>No. Observations:</td>        <td>83815</td>       <td>Log-Likelihood:</td>    <td>-29635.</td> \n",
       "</tr>\n",
       "<tr>\n",
       "       <td>Df Model:</td>              <td>1</td>            <td>LL-Null:</td>        <td>-29705.</td> \n",
       "</tr>\n",
       "<tr>\n",
       "     <td>Df Residuals:</td>          <td>83813</td>        <td>LLR p-value:</td>    <td>5.2675e-32</td>\n",
       "</tr>\n",
       "<tr>\n",
       "      <td>Converged:</td>           <td>1.0000</td>           <td>Scale:</td>         <td>1.0000</td>  \n",
       "</tr>\n",
       "<tr>\n",
       "    <td>No. Iterations:</td>        <td>6.0000</td>              <td></td>               <td></td>     \n",
       "</tr>\n",
       "</table>\n",
       "<table class=\"simpletable\">\n",
       "<tr>\n",
       "         <td></td>          <th>Coef.</th>  <th>Std.Err.</th>     <th>z</th>     <th>P>|z|</th> <th>[0.025</th>  <th>0.975]</th> \n",
       "</tr>\n",
       "<tr>\n",
       "  <th>Intercept</th>       <td>-2.3007</td>  <td>0.0238</td>  <td>-96.5945</td> <td>0.0000</td> <td>-2.3474</td> <td>-2.2540</td>\n",
       "</tr>\n",
       "<tr>\n",
       "  <th>num_medications</th> <td>0.0152</td>   <td>0.0013</td>   <td>12.0076</td> <td>0.0000</td> <td>0.0127</td>  <td>0.0176</td> \n",
       "</tr>\n",
       "</table>"
      ],
      "text/plain": [
       "<class 'statsmodels.iolib.summary2.Summary'>\n",
       "\"\"\"\n",
       "                         Results: Logit\n",
       "=================================================================\n",
       "Model:              Logit            Pseudo R-squared: 0.002     \n",
       "Dependent Variable: readmit_num      AIC:              59274.7724\n",
       "Date:               2022-01-15 02:34 BIC:              59293.4451\n",
       "No. Observations:   83815            Log-Likelihood:   -29635.   \n",
       "Df Model:           1                LL-Null:          -29705.   \n",
       "Df Residuals:       83813            LLR p-value:      5.2675e-32\n",
       "Converged:          1.0000           Scale:            1.0000    \n",
       "No. Iterations:     6.0000                                       \n",
       "-----------------------------------------------------------------\n",
       "                  Coef.  Std.Err.    z     P>|z|   [0.025  0.975]\n",
       "-----------------------------------------------------------------\n",
       "Intercept        -2.3007   0.0238 -96.5945 0.0000 -2.3474 -2.2540\n",
       "num_medications   0.0152   0.0013  12.0076 0.0000  0.0127  0.0176\n",
       "=================================================================\n",
       "\n",
       "\"\"\""
      ]
     },
     "execution_count": 27,
     "metadata": {},
     "output_type": "execute_result"
    }
   ],
   "source": [
    "log_reg = smf.logit(\"readmit_num ~ num_medications\", data=df).fit() \n",
    "log_reg.summary2()"
   ]
  },
  {
   "cell_type": "code",
   "execution_count": 28,
   "metadata": {},
   "outputs": [
    {
     "name": "stdout",
     "output_type": "stream",
     "text": [
      "Optimization terminated successfully.\n",
      "         Current function value: 0.354231\n",
      "         Iterations 6\n"
     ]
    },
    {
     "data": {
      "text/html": [
       "<table class=\"simpletable\">\n",
       "<tr>\n",
       "        <td>Model:</td>              <td>Logit</td>      <td>Pseudo R-squared:</td>    <td>0.000</td>  \n",
       "</tr>\n",
       "<tr>\n",
       "  <td>Dependent Variable:</td>    <td>readmit_num</td>         <td>AIC:</td>        <td>59383.7651</td>\n",
       "</tr>\n",
       "<tr>\n",
       "         <td>Date:</td>        <td>2022-01-15 02:34</td>       <td>BIC:</td>        <td>59402.4379</td>\n",
       "</tr>\n",
       "<tr>\n",
       "   <td>No. Observations:</td>        <td>83815</td>       <td>Log-Likelihood:</td>    <td>-29690.</td> \n",
       "</tr>\n",
       "<tr>\n",
       "       <td>Df Model:</td>              <td>1</td>            <td>LL-Null:</td>        <td>-29705.</td> \n",
       "</tr>\n",
       "<tr>\n",
       "     <td>Df Residuals:</td>          <td>83813</td>        <td>LLR p-value:</td>    <td>5.1701e-08</td>\n",
       "</tr>\n",
       "<tr>\n",
       "      <td>Converged:</td>           <td>1.0000</td>           <td>Scale:</td>         <td>1.0000</td>  \n",
       "</tr>\n",
       "<tr>\n",
       "    <td>No. Iterations:</td>        <td>6.0000</td>              <td></td>               <td></td>     \n",
       "</tr>\n",
       "</table>\n",
       "<table class=\"simpletable\">\n",
       "<tr>\n",
       "          <td></td>           <th>Coef.</th>  <th>Std.Err.</th>     <th>z</th>      <th>P>|z|</th> <th>[0.025</th>  <th>0.975]</th> \n",
       "</tr>\n",
       "<tr>\n",
       "  <th>Intercept</th>         <td>-2.0684</td>  <td>0.0113</td>  <td>-183.2658</td> <td>0.0000</td> <td>-2.0906</td> <td>-2.0463</td>\n",
       "</tr>\n",
       "<tr>\n",
       "  <th>number_outpatient</th> <td>0.0421</td>   <td>0.0074</td>   <td>5.7248</td>   <td>0.0000</td> <td>0.0277</td>  <td>0.0566</td> \n",
       "</tr>\n",
       "</table>"
      ],
      "text/plain": [
       "<class 'statsmodels.iolib.summary2.Summary'>\n",
       "\"\"\"\n",
       "                          Results: Logit\n",
       "===================================================================\n",
       "Model:                Logit            Pseudo R-squared: 0.000     \n",
       "Dependent Variable:   readmit_num      AIC:              59383.7651\n",
       "Date:                 2022-01-15 02:34 BIC:              59402.4379\n",
       "No. Observations:     83815            Log-Likelihood:   -29690.   \n",
       "Df Model:             1                LL-Null:          -29705.   \n",
       "Df Residuals:         83813            LLR p-value:      5.1701e-08\n",
       "Converged:            1.0000           Scale:            1.0000    \n",
       "No. Iterations:       6.0000                                       \n",
       "-------------------------------------------------------------------\n",
       "                   Coef.  Std.Err.     z     P>|z|   [0.025  0.975]\n",
       "-------------------------------------------------------------------\n",
       "Intercept         -2.0684   0.0113 -183.2658 0.0000 -2.0906 -2.0463\n",
       "number_outpatient  0.0421   0.0074    5.7248 0.0000  0.0277  0.0566\n",
       "===================================================================\n",
       "\n",
       "\"\"\""
      ]
     },
     "execution_count": 28,
     "metadata": {},
     "output_type": "execute_result"
    }
   ],
   "source": [
    "log_reg = smf.logit(\"readmit_num ~number_outpatient\", data=df).fit() \n",
    "log_reg.summary2()"
   ]
  },
  {
   "cell_type": "code",
   "execution_count": 29,
   "metadata": {},
   "outputs": [
    {
     "name": "stdout",
     "output_type": "stream",
     "text": [
      "Optimization terminated successfully.\n",
      "         Current function value: 0.353101\n",
      "         Iterations 6\n"
     ]
    },
    {
     "data": {
      "text/html": [
       "<table class=\"simpletable\">\n",
       "<tr>\n",
       "        <td>Model:</td>              <td>Logit</td>      <td>Pseudo R-squared:</td>    <td>0.004</td>  \n",
       "</tr>\n",
       "<tr>\n",
       "  <td>Dependent Variable:</td>    <td>readmit_num</td>         <td>AIC:</td>        <td>59194.3920</td>\n",
       "</tr>\n",
       "<tr>\n",
       "         <td>Date:</td>        <td>2022-01-15 02:34</td>       <td>BIC:</td>        <td>59213.0648</td>\n",
       "</tr>\n",
       "<tr>\n",
       "   <td>No. Observations:</td>        <td>83815</td>       <td>Log-Likelihood:</td>    <td>-29595.</td> \n",
       "</tr>\n",
       "<tr>\n",
       "       <td>Df Model:</td>              <td>1</td>            <td>LL-Null:</td>        <td>-29705.</td> \n",
       "</tr>\n",
       "<tr>\n",
       "     <td>Df Residuals:</td>          <td>83813</td>        <td>LLR p-value:</td>    <td>1.4759e-49</td>\n",
       "</tr>\n",
       "<tr>\n",
       "      <td>Converged:</td>           <td>1.0000</td>           <td>Scale:</td>         <td>1.0000</td>  \n",
       "</tr>\n",
       "<tr>\n",
       "    <td>No. Iterations:</td>        <td>6.0000</td>              <td></td>               <td></td>     \n",
       "</tr>\n",
       "</table>\n",
       "<table class=\"simpletable\">\n",
       "<tr>\n",
       "          <td></td>          <th>Coef.</th>  <th>Std.Err.</th>     <th>z</th>      <th>P>|z|</th> <th>[0.025</th>  <th>0.975]</th> \n",
       "</tr>\n",
       "<tr>\n",
       "  <th>Intercept</th>        <td>-2.0874</td>  <td>0.0112</td>  <td>-185.8094</td> <td>0.0000</td> <td>-2.1095</td> <td>-2.0654</td>\n",
       "</tr>\n",
       "<tr>\n",
       "  <th>number_emergency</th> <td>0.1443</td>   <td>0.0100</td>   <td>14.3802</td>  <td>0.0000</td> <td>0.1246</td>  <td>0.1639</td> \n",
       "</tr>\n",
       "</table>"
      ],
      "text/plain": [
       "<class 'statsmodels.iolib.summary2.Summary'>\n",
       "\"\"\"\n",
       "                          Results: Logit\n",
       "==================================================================\n",
       "Model:               Logit            Pseudo R-squared: 0.004     \n",
       "Dependent Variable:  readmit_num      AIC:              59194.3920\n",
       "Date:                2022-01-15 02:34 BIC:              59213.0648\n",
       "No. Observations:    83815            Log-Likelihood:   -29595.   \n",
       "Df Model:            1                LL-Null:          -29705.   \n",
       "Df Residuals:        83813            LLR p-value:      1.4759e-49\n",
       "Converged:           1.0000           Scale:            1.0000    \n",
       "No. Iterations:      6.0000                                       \n",
       "------------------------------------------------------------------\n",
       "                  Coef.  Std.Err.     z     P>|z|   [0.025  0.975]\n",
       "------------------------------------------------------------------\n",
       "Intercept        -2.0874   0.0112 -185.8094 0.0000 -2.1095 -2.0654\n",
       "number_emergency  0.1443   0.0100   14.3802 0.0000  0.1246  0.1639\n",
       "==================================================================\n",
       "\n",
       "\"\"\""
      ]
     },
     "execution_count": 29,
     "metadata": {},
     "output_type": "execute_result"
    }
   ],
   "source": [
    "log_reg = smf.logit(\"readmit_num ~number_emergency\", data=df).fit() \n",
    "log_reg.summary2()"
   ]
  },
  {
   "cell_type": "code",
   "execution_count": 30,
   "metadata": {},
   "outputs": [
    {
     "name": "stdout",
     "output_type": "stream",
     "text": [
      "Optimization terminated successfully.\n",
      "         Current function value: 0.343956\n",
      "         Iterations 6\n"
     ]
    },
    {
     "data": {
      "text/html": [
       "<table class=\"simpletable\">\n",
       "<tr>\n",
       "        <td>Model:</td>              <td>Logit</td>      <td>Pseudo R-squared:</td>    <td>0.029</td>  \n",
       "</tr>\n",
       "<tr>\n",
       "  <td>Dependent Variable:</td>    <td>readmit_num</td>         <td>AIC:</td>        <td>57661.2968</td>\n",
       "</tr>\n",
       "<tr>\n",
       "         <td>Date:</td>        <td>2022-01-15 02:34</td>       <td>BIC:</td>        <td>57679.9696</td>\n",
       "</tr>\n",
       "<tr>\n",
       "   <td>No. Observations:</td>        <td>83815</td>       <td>Log-Likelihood:</td>    <td>-28829.</td> \n",
       "</tr>\n",
       "<tr>\n",
       "       <td>Df Model:</td>              <td>1</td>            <td>LL-Null:</td>        <td>-29705.</td> \n",
       "</tr>\n",
       "<tr>\n",
       "     <td>Df Residuals:</td>          <td>83813</td>        <td>LLR p-value:</td>      <td>0.0000</td>  \n",
       "</tr>\n",
       "<tr>\n",
       "      <td>Converged:</td>           <td>1.0000</td>           <td>Scale:</td>         <td>1.0000</td>  \n",
       "</tr>\n",
       "<tr>\n",
       "    <td>No. Iterations:</td>        <td>6.0000</td>              <td></td>               <td></td>     \n",
       "</tr>\n",
       "</table>\n",
       "<table class=\"simpletable\">\n",
       "<tr>\n",
       "          <td></td>          <th>Coef.</th>  <th>Std.Err.</th>     <th>z</th>      <th>P>|z|</th> <th>[0.025</th>  <th>0.975]</th> \n",
       "</tr>\n",
       "<tr>\n",
       "  <th>Intercept</th>        <td>-2.2885</td>  <td>0.0128</td>  <td>-178.2517</td> <td>0.0000</td> <td>-2.3137</td> <td>-2.2634</td>\n",
       "</tr>\n",
       "<tr>\n",
       "  <th>number_inpatient</th> <td>0.2868</td>   <td>0.0067</td>   <td>43.0298</td>  <td>0.0000</td> <td>0.2737</td>  <td>0.2998</td> \n",
       "</tr>\n",
       "</table>"
      ],
      "text/plain": [
       "<class 'statsmodels.iolib.summary2.Summary'>\n",
       "\"\"\"\n",
       "                          Results: Logit\n",
       "==================================================================\n",
       "Model:               Logit            Pseudo R-squared: 0.029     \n",
       "Dependent Variable:  readmit_num      AIC:              57661.2968\n",
       "Date:                2022-01-15 02:34 BIC:              57679.9696\n",
       "No. Observations:    83815            Log-Likelihood:   -28829.   \n",
       "Df Model:            1                LL-Null:          -29705.   \n",
       "Df Residuals:        83813            LLR p-value:      0.0000    \n",
       "Converged:           1.0000           Scale:            1.0000    \n",
       "No. Iterations:      6.0000                                       \n",
       "------------------------------------------------------------------\n",
       "                  Coef.  Std.Err.     z     P>|z|   [0.025  0.975]\n",
       "------------------------------------------------------------------\n",
       "Intercept        -2.2885   0.0128 -178.2517 0.0000 -2.3137 -2.2634\n",
       "number_inpatient  0.2868   0.0067   43.0298 0.0000  0.2737  0.2998\n",
       "==================================================================\n",
       "\n",
       "\"\"\""
      ]
     },
     "execution_count": 30,
     "metadata": {},
     "output_type": "execute_result"
    }
   ],
   "source": [
    "log_reg = smf.logit(\"readmit_num ~ number_inpatient\", data=df).fit() \n",
    "log_reg.summary2()"
   ]
  },
  {
   "cell_type": "code",
   "execution_count": 31,
   "metadata": {},
   "outputs": [
    {
     "name": "stdout",
     "output_type": "stream",
     "text": [
      "Optimization terminated successfully.\n",
      "         Current function value: 0.354054\n",
      "         Iterations 6\n"
     ]
    },
    {
     "data": {
      "text/html": [
       "<table class=\"simpletable\">\n",
       "<tr>\n",
       "        <td>Model:</td>              <td>Logit</td>      <td>Pseudo R-squared:</td>    <td>0.001</td>  \n",
       "</tr>\n",
       "<tr>\n",
       "  <td>Dependent Variable:</td>    <td>readmit_num</td>         <td>AIC:</td>        <td>59353.9914</td>\n",
       "</tr>\n",
       "<tr>\n",
       "         <td>Date:</td>        <td>2022-01-15 02:34</td>       <td>BIC:</td>        <td>59372.6641</td>\n",
       "</tr>\n",
       "<tr>\n",
       "   <td>No. Observations:</td>        <td>83815</td>       <td>Log-Likelihood:</td>    <td>-29675.</td> \n",
       "</tr>\n",
       "<tr>\n",
       "       <td>Df Model:</td>              <td>1</td>            <td>LL-Null:</td>        <td>-29705.</td> \n",
       "</tr>\n",
       "<tr>\n",
       "     <td>Df Residuals:</td>          <td>83813</td>        <td>LLR p-value:</td>    <td>1.2700e-14</td>\n",
       "</tr>\n",
       "<tr>\n",
       "      <td>Converged:</td>           <td>1.0000</td>           <td>Scale:</td>         <td>1.0000</td>  \n",
       "</tr>\n",
       "<tr>\n",
       "    <td>No. Iterations:</td>        <td>6.0000</td>              <td></td>               <td></td>     \n",
       "</tr>\n",
       "</table>\n",
       "<table class=\"simpletable\">\n",
       "<tr>\n",
       "           <td></td>           <th>Coef.</th>  <th>Std.Err.</th>     <th>z</th>     <th>P>|z|</th> <th>[0.025</th>  <th>0.975]</th> \n",
       "</tr>\n",
       "<tr>\n",
       "  <th>Intercept</th>          <td>-2.2178</td>  <td>0.0247</td>  <td>-89.7526</td> <td>0.0000</td> <td>-2.2662</td> <td>-2.1694</td>\n",
       "</tr>\n",
       "<tr>\n",
       "  <th>diabetesMed[T.Yes]</th> <td>0.2086</td>   <td>0.0275</td>   <td>7.5807</td>  <td>0.0000</td> <td>0.1547</td>  <td>0.2626</td> \n",
       "</tr>\n",
       "</table>"
      ],
      "text/plain": [
       "<class 'statsmodels.iolib.summary2.Summary'>\n",
       "\"\"\"\n",
       "                          Results: Logit\n",
       "===================================================================\n",
       "Model:                Logit            Pseudo R-squared: 0.001     \n",
       "Dependent Variable:   readmit_num      AIC:              59353.9914\n",
       "Date:                 2022-01-15 02:34 BIC:              59372.6641\n",
       "No. Observations:     83815            Log-Likelihood:   -29675.   \n",
       "Df Model:             1                LL-Null:          -29705.   \n",
       "Df Residuals:         83813            LLR p-value:      1.2700e-14\n",
       "Converged:            1.0000           Scale:            1.0000    \n",
       "No. Iterations:       6.0000                                       \n",
       "-------------------------------------------------------------------\n",
       "                    Coef.  Std.Err.    z     P>|z|   [0.025  0.975]\n",
       "-------------------------------------------------------------------\n",
       "Intercept          -2.2178   0.0247 -89.7526 0.0000 -2.2662 -2.1694\n",
       "diabetesMed[T.Yes]  0.2086   0.0275   7.5807 0.0000  0.1547  0.2626\n",
       "===================================================================\n",
       "\n",
       "\"\"\""
      ]
     },
     "execution_count": 31,
     "metadata": {},
     "output_type": "execute_result"
    }
   ],
   "source": [
    "log_reg = smf.logit(\"readmit_num ~ diabetesMed \", data=df).fit() \n",
    "log_reg.summary2()"
   ]
  },
  {
   "cell_type": "code",
   "execution_count": 32,
   "metadata": {},
   "outputs": [
    {
     "name": "stdout",
     "output_type": "stream",
     "text": [
      "Optimization terminated successfully.\n",
      "         Current function value: 0.352853\n",
      "         Iterations 6\n"
     ]
    },
    {
     "data": {
      "text/html": [
       "<table class=\"simpletable\">\n",
       "<tr>\n",
       "        <td>Model:</td>              <td>Logit</td>      <td>Pseudo R-squared:</td>    <td>0.004</td>  \n",
       "</tr>\n",
       "<tr>\n",
       "  <td>Dependent Variable:</td>    <td>readmit_num</td>         <td>AIC:</td>        <td>59152.8247</td>\n",
       "</tr>\n",
       "<tr>\n",
       "         <td>Date:</td>        <td>2022-01-15 02:34</td>       <td>BIC:</td>        <td>59171.4974</td>\n",
       "</tr>\n",
       "<tr>\n",
       "   <td>No. Observations:</td>        <td>83815</td>       <td>Log-Likelihood:</td>    <td>-29574.</td> \n",
       "</tr>\n",
       "<tr>\n",
       "       <td>Df Model:</td>              <td>1</td>            <td>LL-Null:</td>        <td>-29705.</td> \n",
       "</tr>\n",
       "<tr>\n",
       "     <td>Df Residuals:</td>          <td>83813</td>        <td>LLR p-value:</td>    <td>1.2747e-58</td>\n",
       "</tr>\n",
       "<tr>\n",
       "      <td>Converged:</td>           <td>1.0000</td>           <td>Scale:</td>         <td>1.0000</td>  \n",
       "</tr>\n",
       "<tr>\n",
       "    <td>No. Iterations:</td>        <td>6.0000</td>              <td></td>               <td></td>     \n",
       "</tr>\n",
       "</table>\n",
       "<table class=\"simpletable\">\n",
       "<tr>\n",
       "          <td></td>          <th>Coef.</th>  <th>Std.Err.</th>     <th>z</th>     <th>P>|z|</th> <th>[0.025</th>  <th>0.975]</th> \n",
       "</tr>\n",
       "<tr>\n",
       "  <th>Intercept</th>        <td>-2.7800</td>  <td>0.0483</td>  <td>-57.5564</td> <td>0.0000</td> <td>-2.8747</td> <td>-2.6853</td>\n",
       "</tr>\n",
       "<tr>\n",
       "  <th>number_diagnoses</th> <td>0.0956</td>   <td>0.0061</td>   <td>15.7219</td> <td>0.0000</td> <td>0.0836</td>  <td>0.1075</td> \n",
       "</tr>\n",
       "</table>"
      ],
      "text/plain": [
       "<class 'statsmodels.iolib.summary2.Summary'>\n",
       "\"\"\"\n",
       "                         Results: Logit\n",
       "=================================================================\n",
       "Model:              Logit            Pseudo R-squared: 0.004     \n",
       "Dependent Variable: readmit_num      AIC:              59152.8247\n",
       "Date:               2022-01-15 02:34 BIC:              59171.4974\n",
       "No. Observations:   83815            Log-Likelihood:   -29574.   \n",
       "Df Model:           1                LL-Null:          -29705.   \n",
       "Df Residuals:       83813            LLR p-value:      1.2747e-58\n",
       "Converged:          1.0000           Scale:            1.0000    \n",
       "No. Iterations:     6.0000                                       \n",
       "-----------------------------------------------------------------\n",
       "                  Coef.  Std.Err.    z     P>|z|   [0.025  0.975]\n",
       "-----------------------------------------------------------------\n",
       "Intercept        -2.7800   0.0483 -57.5564 0.0000 -2.8747 -2.6853\n",
       "number_diagnoses  0.0956   0.0061  15.7219 0.0000  0.0836  0.1075\n",
       "=================================================================\n",
       "\n",
       "\"\"\""
      ]
     },
     "execution_count": 32,
     "metadata": {},
     "output_type": "execute_result"
    }
   ],
   "source": [
    "log_reg = smf.logit(\"readmit_num ~ number_diagnoses\", data=df).fit() \n",
    "log_reg.summary2()"
   ]
  },
  {
   "cell_type": "code",
   "execution_count": 33,
   "metadata": {},
   "outputs": [
    {
     "name": "stdout",
     "output_type": "stream",
     "text": [
      "Warning: Maximum number of iterations has been exceeded.\n",
      "         Current function value: 0.354344\n",
      "         Iterations: 35\n"
     ]
    },
    {
     "name": "stderr",
     "output_type": "stream",
     "text": [
      "C:\\Users\\frans\\anaconda3\\lib\\site-packages\\statsmodels\\base\\model.py:566: ConvergenceWarning: Maximum Likelihood optimization failed to converge. Check mle_retvals\n",
      "  warnings.warn(\"Maximum Likelihood optimization failed to \"\n"
     ]
    },
    {
     "data": {
      "text/html": [
       "<table class=\"simpletable\">\n",
       "<tr>\n",
       "        <td>Model:</td>              <td>Logit</td>      <td>Pseudo R-squared:</td>    <td>0.000</td>  \n",
       "</tr>\n",
       "<tr>\n",
       "  <td>Dependent Variable:</td>    <td>readmit_num</td>         <td>AIC:</td>        <td>59406.7408</td>\n",
       "</tr>\n",
       "<tr>\n",
       "         <td>Date:</td>        <td>2022-01-15 02:34</td>       <td>BIC:</td>        <td>59444.0862</td>\n",
       "</tr>\n",
       "<tr>\n",
       "   <td>No. Observations:</td>        <td>83815</td>       <td>Log-Likelihood:</td>    <td>-29699.</td> \n",
       "</tr>\n",
       "<tr>\n",
       "       <td>Df Model:</td>              <td>3</td>            <td>LL-Null:</td>        <td>-29705.</td> \n",
       "</tr>\n",
       "<tr>\n",
       "     <td>Df Residuals:</td>          <td>83811</td>        <td>LLR p-value:</td>     <td>0.013612</td> \n",
       "</tr>\n",
       "<tr>\n",
       "      <td>Converged:</td>           <td>0.0000</td>           <td>Scale:</td>         <td>1.0000</td>  \n",
       "</tr>\n",
       "<tr>\n",
       "    <td>No. Iterations:</td>        <td>35.0000</td>             <td></td>               <td></td>     \n",
       "</tr>\n",
       "</table>\n",
       "<table class=\"simpletable\">\n",
       "<tr>\n",
       "            <td></td>              <th>Coef.</th>   <th>Std.Err.</th>     <th>z</th>     <th>P>|z|</th>   <th>[0.025</th>      <th>0.975]</th>  \n",
       "</tr>\n",
       "<tr>\n",
       "  <th>Intercept</th>             <td>-21.5163</td> <td>17712.8920</td> <td>-0.0012</td> <td>0.9990</td> <td>-34738.1466</td> <td>34695.1140</td>\n",
       "</tr>\n",
       "<tr>\n",
       "  <th>max_glu_serum[T.>300]</th>  <td>19.9617</td> <td>17712.8920</td> <td>0.0011</td>  <td>0.9991</td> <td>-34696.6687</td> <td>34736.5920</td>\n",
       "</tr>\n",
       "<tr>\n",
       "  <th>max_glu_serum[T.None]</th>  <td>19.4619</td> <td>17712.8920</td> <td>0.0011</td>  <td>0.9991</td> <td>-34697.1684</td> <td>34736.0922</td>\n",
       "</tr>\n",
       "<tr>\n",
       "  <th>max_glu_serum[T.Norm]</th>  <td>19.8246</td> <td>17712.8920</td> <td>0.0011</td>  <td>0.9991</td> <td>-34696.8057</td> <td>34736.4550</td>\n",
       "</tr>\n",
       "</table>"
      ],
      "text/plain": [
       "<class 'statsmodels.iolib.summary2.Summary'>\n",
       "\"\"\"\n",
       "                                Results: Logit\n",
       "===============================================================================\n",
       "Model:                    Logit                Pseudo R-squared:     0.000     \n",
       "Dependent Variable:       readmit_num          AIC:                  59406.7408\n",
       "Date:                     2022-01-15 02:34     BIC:                  59444.0862\n",
       "No. Observations:         83815                Log-Likelihood:       -29699.   \n",
       "Df Model:                 3                    LL-Null:              -29705.   \n",
       "Df Residuals:             83811                LLR p-value:          0.013612  \n",
       "Converged:                0.0000               Scale:                1.0000    \n",
       "No. Iterations:           35.0000                                              \n",
       "-------------------------------------------------------------------------------\n",
       "                       Coef.    Std.Err.     z    P>|z|     [0.025     0.975]  \n",
       "-------------------------------------------------------------------------------\n",
       "Intercept             -21.5163 17712.8920 -0.0012 0.9990 -34738.1466 34695.1140\n",
       "max_glu_serum[T.>300]  19.9617 17712.8920  0.0011 0.9991 -34696.6687 34736.5920\n",
       "max_glu_serum[T.None]  19.4619 17712.8920  0.0011 0.9991 -34697.1684 34736.0922\n",
       "max_glu_serum[T.Norm]  19.8246 17712.8920  0.0011 0.9991 -34696.8057 34736.4550\n",
       "===============================================================================\n",
       "\n",
       "\"\"\""
      ]
     },
     "execution_count": 33,
     "metadata": {},
     "output_type": "execute_result"
    }
   ],
   "source": [
    "log_reg = smf.logit(\"readmit_num ~ max_glu_serum \", data=df).fit() \n",
    "log_reg.summary2()"
   ]
  },
  {
   "cell_type": "code",
   "execution_count": 34,
   "metadata": {},
   "outputs": [
    {
     "data": {
      "text/plain": [
       "A1Cresult\n",
       ">7       3242\n",
       ">8       6798\n",
       "None    69350\n",
       "Norm     4425\n",
       "dtype: int64"
      ]
     },
     "execution_count": 34,
     "metadata": {},
     "output_type": "execute_result"
    }
   ],
   "source": [
    "df.groupby('A1Cresult').size()"
   ]
  },
  {
   "cell_type": "code",
   "execution_count": 35,
   "metadata": {},
   "outputs": [
    {
     "name": "stdout",
     "output_type": "stream",
     "text": [
      "Optimization terminated successfully.\n",
      "         Current function value: 0.354119\n",
      "         Iterations 6\n",
      "                                                    OR  Lower CI  Upper CI\n",
      "Intercept                                     0.106625  0.098372  0.115571\n",
      "C(A1Cresult, Treatment(reference=1))[T.>7]    1.066412  0.927707  1.225855\n",
      "C(A1Cresult, Treatment(reference=1))[T.None]  1.245132  1.145021  1.353996\n",
      "C(A1Cresult, Treatment(reference=1))[T.Norm]  0.996479  0.876396  1.133016\n"
     ]
    }
   ],
   "source": [
    "\n",
    "log_reg = smf.logit(\"readmit_num ~ C(A1Cresult, Treatment(reference= 1)) \", data=df).fit() \n",
    "log_reg.summary2()\n",
    "odds_ratios = pd.DataFrame(\n",
    "    {\n",
    "        \"OR\": log_reg.params,\n",
    "        \"Lower CI\": log_reg.conf_int()[0],\n",
    "        \"Upper CI\": log_reg.conf_int()[1],\n",
    "    }\n",
    ")\n",
    "odds_ratios = np.exp(odds_ratios)\n",
    "print(odds_ratios)\n",
    "\n"
   ]
  },
  {
   "cell_type": "markdown",
   "metadata": {},
   "source": [
    "# Develop the Final model "
   ]
  },
  {
   "cell_type": "code",
   "execution_count": 36,
   "metadata": {},
   "outputs": [
    {
     "name": "stdout",
     "output_type": "stream",
     "text": [
      "Optimization terminated successfully.\n",
      "         Current function value: 0.337853\n",
      "         Iterations 8\n",
      "                             OR  Lower CI   Upper CI\n",
      "Intercept              0.009144  0.002247   0.037217\n",
      "discharge_type[T.2.0]  1.926878  1.695775   2.189477\n",
      "discharge_type[T.3.0]  1.488684  1.396115   1.587391\n",
      "discharge_type[T.4.0]  1.993153  1.755484   2.262999\n",
      "discharge_type[T.5.0]  1.232312  1.154380   1.315506\n",
      "discharge_type[T.6.0]  3.270307  2.969266   3.601870\n",
      "diabetesMed[T.Yes]     1.194523  1.130241   1.262460\n",
      "age[T.[10-20)]         3.427876  0.815340  14.411574\n",
      "age[T.[20-30)]         5.712172  1.399350  23.317182\n",
      "age[T.[30-40)]         5.232768  1.287815  21.262264\n",
      "age[T.[40-50)]         4.797016  1.183528  19.443025\n",
      "age[T.[50-60)]         4.329089  1.068716  17.536009\n",
      "age[T.[60-70)]         5.007310  1.236390  20.279317\n",
      "age[T.[70-80)]         5.153770  1.272540  20.872693\n",
      "age[T.[80-90)]         5.015413  1.237794  20.321928\n",
      "age[T.[90-100)]        4.487722  1.101790  18.279022\n",
      "A1Cresult[T.>8]        0.983284  0.852637   1.133949\n",
      "A1Cresult[T.None]      1.132729  1.005879   1.275575\n",
      "A1Cresult[T.Norm]      0.968414  0.830524   1.129198\n",
      "admission_type[T.2]    0.987713  0.932868   1.045782\n",
      "admission_type[T.3]    0.946322  0.890401   1.005754\n",
      "admission_type[T.4]    0.312939  0.042123   2.324904\n",
      "number_inpatient       1.307549  1.289476   1.325875\n",
      "number_diagnoses       1.044114  1.030665   1.057739\n",
      "number_emergency       1.031482  1.013724   1.049552\n",
      "num_lab_procedures     1.002045  1.000813   1.003279\n",
      "num_procedures         0.996401  0.982769   1.010223\n"
     ]
    }
   ],
   "source": [
    "\n",
    "log_reg = smf.logit(\"readmit_num ~ number_inpatient + discharge_type  + number_diagnoses + number_emergency + diabetesMed + num_lab_procedures + age + A1Cresult + num_procedures + admission_type \", data=df).fit()\n",
    "log_reg.summary2()\n",
    "odds_ratios = pd.DataFrame(\n",
    "    {\n",
    "        \"OR\": log_reg.params,\n",
    "        \"Lower CI\": log_reg.conf_int()[0],\n",
    "        \"Upper CI\": log_reg.conf_int()[1],\n",
    "    }\n",
    ")\n",
    "odds_ratios = np.exp(odds_ratios)\n",
    "print(odds_ratios)"
   ]
  },
  {
   "cell_type": "code",
   "execution_count": 52,
   "metadata": {},
   "outputs": [],
   "source": [
    "odds_ratios.to_csv('test.csv')"
   ]
  },
  {
   "cell_type": "markdown",
   "metadata": {},
   "source": [
    "# Plot the logistic regression model result"
   ]
  },
  {
   "cell_type": "code",
   "execution_count": 53,
   "metadata": {},
   "outputs": [],
   "source": [
    "import matplotlib.image as mpimg\n",
    "import matplotlib.pyplot as plt\n",
    "import zepid\n",
    "from zepid.graphics import EffectMeasurePlot"
   ]
  },
  {
   "cell_type": "code",
   "execution_count": 73,
   "metadata": {},
   "outputs": [],
   "source": [
    "odds_ratios=pd.read_csv('test.csv') "
   ]
  },
  {
   "cell_type": "code",
   "execution_count": 74,
   "metadata": {},
   "outputs": [
    {
     "data": {
      "text/html": [
       "<div>\n",
       "<style scoped>\n",
       "    .dataframe tbody tr th:only-of-type {\n",
       "        vertical-align: middle;\n",
       "    }\n",
       "\n",
       "    .dataframe tbody tr th {\n",
       "        vertical-align: top;\n",
       "    }\n",
       "\n",
       "    .dataframe thead th {\n",
       "        text-align: right;\n",
       "    }\n",
       "</style>\n",
       "<table border=\"1\" class=\"dataframe\">\n",
       "  <thead>\n",
       "    <tr style=\"text-align: right;\">\n",
       "      <th></th>\n",
       "      <th>Var</th>\n",
       "      <th>OR</th>\n",
       "      <th>Lower CI</th>\n",
       "      <th>Upper CI</th>\n",
       "    </tr>\n",
       "  </thead>\n",
       "  <tbody>\n",
       "    <tr>\n",
       "      <th>0</th>\n",
       "      <td>Intercept</td>\n",
       "      <td>0.009144</td>\n",
       "      <td>0.002247</td>\n",
       "      <td>0.037217</td>\n",
       "    </tr>\n",
       "    <tr>\n",
       "      <th>1</th>\n",
       "      <td>discharge_type[T.2.0]</td>\n",
       "      <td>1.926878</td>\n",
       "      <td>1.695775</td>\n",
       "      <td>2.189477</td>\n",
       "    </tr>\n",
       "    <tr>\n",
       "      <th>2</th>\n",
       "      <td>discharge_type[T.3.0]</td>\n",
       "      <td>1.488684</td>\n",
       "      <td>1.396115</td>\n",
       "      <td>1.587391</td>\n",
       "    </tr>\n",
       "    <tr>\n",
       "      <th>3</th>\n",
       "      <td>discharge_type[T.4.0]</td>\n",
       "      <td>1.993153</td>\n",
       "      <td>1.755484</td>\n",
       "      <td>2.262999</td>\n",
       "    </tr>\n",
       "    <tr>\n",
       "      <th>4</th>\n",
       "      <td>discharge_type[T.5.0]</td>\n",
       "      <td>1.232312</td>\n",
       "      <td>1.154380</td>\n",
       "      <td>1.315506</td>\n",
       "    </tr>\n",
       "    <tr>\n",
       "      <th>5</th>\n",
       "      <td>discharge_type[T.6.0]</td>\n",
       "      <td>3.270307</td>\n",
       "      <td>2.969266</td>\n",
       "      <td>3.601870</td>\n",
       "    </tr>\n",
       "    <tr>\n",
       "      <th>6</th>\n",
       "      <td>diabetesMed[T.Yes]</td>\n",
       "      <td>1.194523</td>\n",
       "      <td>1.130241</td>\n",
       "      <td>1.262460</td>\n",
       "    </tr>\n",
       "    <tr>\n",
       "      <th>7</th>\n",
       "      <td>age[T.[10-20)]</td>\n",
       "      <td>3.427876</td>\n",
       "      <td>0.815340</td>\n",
       "      <td>14.411574</td>\n",
       "    </tr>\n",
       "    <tr>\n",
       "      <th>8</th>\n",
       "      <td>age[T.[20-30)]</td>\n",
       "      <td>5.712172</td>\n",
       "      <td>1.399350</td>\n",
       "      <td>23.317182</td>\n",
       "    </tr>\n",
       "    <tr>\n",
       "      <th>9</th>\n",
       "      <td>age[T.[30-40)]</td>\n",
       "      <td>5.232768</td>\n",
       "      <td>1.287815</td>\n",
       "      <td>21.262264</td>\n",
       "    </tr>\n",
       "    <tr>\n",
       "      <th>10</th>\n",
       "      <td>age[T.[40-50)]</td>\n",
       "      <td>4.797016</td>\n",
       "      <td>1.183528</td>\n",
       "      <td>19.443025</td>\n",
       "    </tr>\n",
       "    <tr>\n",
       "      <th>11</th>\n",
       "      <td>age[T.[50-60)]</td>\n",
       "      <td>4.329089</td>\n",
       "      <td>1.068716</td>\n",
       "      <td>17.536009</td>\n",
       "    </tr>\n",
       "    <tr>\n",
       "      <th>12</th>\n",
       "      <td>age[T.[60-70)]</td>\n",
       "      <td>5.007310</td>\n",
       "      <td>1.236390</td>\n",
       "      <td>20.279317</td>\n",
       "    </tr>\n",
       "    <tr>\n",
       "      <th>13</th>\n",
       "      <td>age[T.[70-80)]</td>\n",
       "      <td>5.153770</td>\n",
       "      <td>1.272540</td>\n",
       "      <td>20.872693</td>\n",
       "    </tr>\n",
       "    <tr>\n",
       "      <th>14</th>\n",
       "      <td>age[T.[80-90)]</td>\n",
       "      <td>5.015413</td>\n",
       "      <td>1.237794</td>\n",
       "      <td>20.321928</td>\n",
       "    </tr>\n",
       "    <tr>\n",
       "      <th>15</th>\n",
       "      <td>age[T.[90-100)]</td>\n",
       "      <td>4.487722</td>\n",
       "      <td>1.101790</td>\n",
       "      <td>18.279022</td>\n",
       "    </tr>\n",
       "    <tr>\n",
       "      <th>16</th>\n",
       "      <td>A1Cresult[T.&gt;8]</td>\n",
       "      <td>0.983284</td>\n",
       "      <td>0.852637</td>\n",
       "      <td>1.133949</td>\n",
       "    </tr>\n",
       "    <tr>\n",
       "      <th>17</th>\n",
       "      <td>A1Cresult[T.None]</td>\n",
       "      <td>1.132729</td>\n",
       "      <td>1.005879</td>\n",
       "      <td>1.275575</td>\n",
       "    </tr>\n",
       "    <tr>\n",
       "      <th>18</th>\n",
       "      <td>A1Cresult[T.Norm]</td>\n",
       "      <td>0.968414</td>\n",
       "      <td>0.830524</td>\n",
       "      <td>1.129198</td>\n",
       "    </tr>\n",
       "    <tr>\n",
       "      <th>19</th>\n",
       "      <td>admission_type[T.2]</td>\n",
       "      <td>0.987713</td>\n",
       "      <td>0.932868</td>\n",
       "      <td>1.045782</td>\n",
       "    </tr>\n",
       "    <tr>\n",
       "      <th>20</th>\n",
       "      <td>admission_type[T.3]</td>\n",
       "      <td>0.946322</td>\n",
       "      <td>0.890401</td>\n",
       "      <td>1.005754</td>\n",
       "    </tr>\n",
       "    <tr>\n",
       "      <th>21</th>\n",
       "      <td>admission_type[T.4]</td>\n",
       "      <td>0.312939</td>\n",
       "      <td>0.042123</td>\n",
       "      <td>2.324904</td>\n",
       "    </tr>\n",
       "    <tr>\n",
       "      <th>22</th>\n",
       "      <td>number_inpatient</td>\n",
       "      <td>1.307549</td>\n",
       "      <td>1.289476</td>\n",
       "      <td>1.325875</td>\n",
       "    </tr>\n",
       "    <tr>\n",
       "      <th>23</th>\n",
       "      <td>number_diagnoses</td>\n",
       "      <td>1.044114</td>\n",
       "      <td>1.030665</td>\n",
       "      <td>1.057739</td>\n",
       "    </tr>\n",
       "    <tr>\n",
       "      <th>24</th>\n",
       "      <td>number_emergency</td>\n",
       "      <td>1.031482</td>\n",
       "      <td>1.013724</td>\n",
       "      <td>1.049552</td>\n",
       "    </tr>\n",
       "    <tr>\n",
       "      <th>25</th>\n",
       "      <td>num_lab_procedures</td>\n",
       "      <td>1.002045</td>\n",
       "      <td>1.000813</td>\n",
       "      <td>1.003279</td>\n",
       "    </tr>\n",
       "    <tr>\n",
       "      <th>26</th>\n",
       "      <td>num_procedures</td>\n",
       "      <td>0.996401</td>\n",
       "      <td>0.982769</td>\n",
       "      <td>1.010223</td>\n",
       "    </tr>\n",
       "  </tbody>\n",
       "</table>\n",
       "</div>"
      ],
      "text/plain": [
       "                      Var        OR  Lower CI   Upper CI\n",
       "0               Intercept  0.009144  0.002247   0.037217\n",
       "1   discharge_type[T.2.0]  1.926878  1.695775   2.189477\n",
       "2   discharge_type[T.3.0]  1.488684  1.396115   1.587391\n",
       "3   discharge_type[T.4.0]  1.993153  1.755484   2.262999\n",
       "4   discharge_type[T.5.0]  1.232312  1.154380   1.315506\n",
       "5   discharge_type[T.6.0]  3.270307  2.969266   3.601870\n",
       "6      diabetesMed[T.Yes]  1.194523  1.130241   1.262460\n",
       "7          age[T.[10-20)]  3.427876  0.815340  14.411574\n",
       "8          age[T.[20-30)]  5.712172  1.399350  23.317182\n",
       "9          age[T.[30-40)]  5.232768  1.287815  21.262264\n",
       "10         age[T.[40-50)]  4.797016  1.183528  19.443025\n",
       "11         age[T.[50-60)]  4.329089  1.068716  17.536009\n",
       "12         age[T.[60-70)]  5.007310  1.236390  20.279317\n",
       "13         age[T.[70-80)]  5.153770  1.272540  20.872693\n",
       "14         age[T.[80-90)]  5.015413  1.237794  20.321928\n",
       "15        age[T.[90-100)]  4.487722  1.101790  18.279022\n",
       "16        A1Cresult[T.>8]  0.983284  0.852637   1.133949\n",
       "17      A1Cresult[T.None]  1.132729  1.005879   1.275575\n",
       "18      A1Cresult[T.Norm]  0.968414  0.830524   1.129198\n",
       "19    admission_type[T.2]  0.987713  0.932868   1.045782\n",
       "20    admission_type[T.3]  0.946322  0.890401   1.005754\n",
       "21    admission_type[T.4]  0.312939  0.042123   2.324904\n",
       "22       number_inpatient  1.307549  1.289476   1.325875\n",
       "23       number_diagnoses  1.044114  1.030665   1.057739\n",
       "24       number_emergency  1.031482  1.013724   1.049552\n",
       "25     num_lab_procedures  1.002045  1.000813   1.003279\n",
       "26         num_procedures  0.996401  0.982769   1.010223"
      ]
     },
     "execution_count": 74,
     "metadata": {},
     "output_type": "execute_result"
    }
   ],
   "source": [
    "odds_ratios"
   ]
  },
  {
   "cell_type": "code",
   "execution_count": 70,
   "metadata": {},
   "outputs": [
    {
     "name": "stdout",
     "output_type": "stream",
     "text": [
      "['Intercept' 'discharge_type[T.2.0]' 'discharge_type[T.3.0]'\n",
      " 'discharge_type[T.4.0]' 'discharge_type[T.5.0]' 'discharge_type[T.6.0]'\n",
      " 'diabetesMed[T.Yes]' 'age[T.[10-20)]' 'age[T.[20-30)]' 'age[T.[30-40)]'\n",
      " 'age[T.[40-50)]' 'age[T.[50-60)]' 'age[T.[60-70)]' 'age[T.[70-80)]'\n",
      " 'age[T.[80-90)]' 'age[T.[90-100)]' 'A1Cresult[T.>8]' 'A1Cresult[T.None]'\n",
      " 'A1Cresult[T.Norm]' 'admission_type[T.2]' 'admission_type[T.3]'\n",
      " 'admission_type[T.4]' 'number_inpatient' 'number_diagnoses'\n",
      " 'number_emergency' 'num_lab_procedures' 'num_procedures']\n",
      "[0.009144   1.92687838 1.48868434 1.99315308 1.23231239 3.27030746\n",
      " 1.19452253 3.42787627 5.7121716  5.23276774 4.79701575 4.32908943\n",
      " 5.00730972 5.15376996 5.01541273 4.48772231 0.98328406 1.13272881\n",
      " 0.96841413 0.98771291 0.94632173 0.3129393  1.30754866 1.04411401\n",
      " 1.03148209 1.00204518 0.99640142]\n",
      "[2.24665900e-03 1.69577489e+00 1.39611532e+00 1.75548397e+00\n",
      " 1.15438001e+00 2.96926581e+00 1.13024135e+00 8.15340197e-01\n",
      " 1.39935023e+00 1.28781480e+00 1.18352777e+00 1.06871610e+00\n",
      " 1.23639032e+00 1.27254040e+00 1.23779419e+00 1.10179045e+00\n",
      " 8.52637254e-01 1.00587902e+00 8.30523619e-01 9.32867983e-01\n",
      " 8.90401189e-01 4.21225930e-02 1.28947596e+00 1.03066452e+00\n",
      " 1.01372371e+00 1.00081315e+00 9.82769343e-01]\n",
      "[ 0.03721651  2.18947711  1.58739112  2.26299941  1.31550601  3.60187049\n",
      "  1.26245964 14.41157417 23.3171823  21.26226391 19.44302511 17.53600917\n",
      " 20.27931651 20.87269272 20.32192836 18.27902176  1.13394945  1.27557544\n",
      "  1.12919838  1.04578226  1.00575429  2.32490438  1.32587466  1.05773901\n",
      "  1.04955156  1.00327873  1.01022258]\n"
     ]
    }
   ],
   "source": [
    "#Name of variables\n",
    "var_name = odds_ratios[\"Var\"].to_numpy()\n",
    "print(var_name)\n",
    "##OR\n",
    "or_array = odds_ratios[\"OR\"].to_numpy()\n",
    "print(or_array)\n",
    "##lower CI\n",
    "lowCI_array = odds_ratios[\"Lower CI\"].to_numpy()\n",
    "print(lowCI_array)\n",
    "##upper CI\n",
    "upCI_array = odds_ratios[\"Upper CI\"].to_numpy()\n",
    "print(upCI_array)"
   ]
  },
  {
   "cell_type": "code",
   "execution_count": 71,
   "metadata": {},
   "outputs": [
    {
     "data": {
      "image/png": "[encoded data removed]",
      "text/plain": [
       "<Figure size 720x720 with 2 Axes>"
      ]
     },
     "metadata": {
      "needs_background": "light"
     },
     "output_type": "display_data"
    }
   ],
   "source": [
    "#Categorical plot\n",
    "\n",
    "p_cate = EffectMeasurePlot(label=var_name, effect_measure=or_array, lcl=lowCI_array, ucl=upCI_array)\n",
    "p_cate.labels(scale='log')\n",
    "p_cate.plot(figsize=(10,10), t_adjuster=0.009, max_value=25, min_value=0.01)\n",
    "plt.suptitle(\"Multivariable Logistic Regression Model\\n Factors associated with 30-day readmission \",x=0.5,y=0.98, fontsize = 20, weight = 'bold')\n",
    "plt.tight_layout()\n",
    "plt.rc('axes', labelsize=30)\n",
    "plt.show()"
   ]
  },
  {
   "cell_type": "markdown",
   "metadata": {},
   "source": [
    "### Factors associated with 30-day readmission\n",
    "Discharge type, using the diabetes medicine, age, A1C results, admission type, no. inpatients, no.diagnosis, no.emergency, no lab procedure\n"
   ]
  },
  {
   "cell_type": "markdown",
   "metadata": {},
   "source": [
    "# Numeric variable group"
   ]
  },
  {
   "cell_type": "code",
   "execution_count": 75,
   "metadata": {},
   "outputs": [
    {
     "name": "stdout",
     "output_type": "stream",
     "text": [
      "                   Var        OR  Lower CI  Upper CI\n",
      "22    number_inpatient  1.307549  1.289476  1.325875\n",
      "23    number_diagnoses  1.044114  1.030665  1.057739\n",
      "24    number_emergency  1.031482  1.013724  1.049552\n",
      "25  num_lab_procedures  1.002045  1.000813  1.003279\n",
      "26      num_procedures  0.996401  0.982769  1.010223\n"
     ]
    }
   ],
   "source": [
    "numeric = odds_ratios[22:36]\n",
    "print(numeric)"
   ]
  },
  {
   "cell_type": "code",
   "execution_count": 76,
   "metadata": {},
   "outputs": [
    {
     "name": "stdout",
     "output_type": "stream",
     "text": [
      "['number_inpatient' 'number_diagnoses' 'number_emergency'\n",
      " 'num_lab_procedures' 'num_procedures']\n",
      "[1.30754866 1.04411401 1.03148209 1.00204518 0.99640142]\n",
      "[1.28947596 1.03066452 1.01372371 1.00081315 0.98276934]\n",
      "[1.32587466 1.05773901 1.04955156 1.00327873 1.01022258]\n"
     ]
    }
   ],
   "source": [
    "#Numberic variables\n",
    "num = numeric[\"Var\"].to_numpy()\n",
    "print(num)\n",
    "##OR\n",
    "or_array_num = numeric[\"OR\"].to_numpy()\n",
    "print(or_array_num)\n",
    "##lower CI\n",
    "lowCI_array_num = numeric[\"Lower CI\"].to_numpy()\n",
    "print(lowCI_array_num)\n",
    "##upper CI\n",
    "upCI_array_num = numeric[\"Upper CI\"].to_numpy()\n",
    "print(upCI_array_num)"
   ]
  },
  {
   "cell_type": "code",
   "execution_count": 77,
   "metadata": {},
   "outputs": [
    {
     "data": {
      "image/png": "[encoded data removed]",
      "text/plain": [
       "<Figure size 720x360 with 2 Axes>"
      ]
     },
     "metadata": {
      "needs_background": "light"
     },
     "output_type": "display_data"
    }
   ],
   "source": [
    "#Numberic plot\n",
    "\n",
    "p_num = EffectMeasurePlot(label=num, effect_measure=or_array_num, lcl=lowCI_array_num, ucl=upCI_array_num )\n",
    "p_num.labels(scale='log')\n",
    "p_num.plot(figsize=(10,5), t_adjuster=0.1, max_value=1.4, min_value=0.9)\n",
    "plt.suptitle(\"Numeric variables\",x=0.1,y=0.9, fontsize = 20, weight = 'bold')\n",
    "plt.tight_layout()\n",
    "plt.rc('axes', labelsize=30)\n",
    "plt.show()"
   ]
  }
 ],
 "metadata": {
  "kernelspec": {
   "display_name": "Python 3 (ipykernel)",
   "language": "python",
   "name": "python3"
  },
  "language_info": {
   "codemirror_mode": {
    "name": "ipython",
    "version": 3
   },
   "file_extension": ".py",
   "mimetype": "text/x-python",
   "name": "python",
   "nbconvert_exporter": "python",
   "pygments_lexer": "ipython3",
   "version": "3.9.7"
  }
 },
 "nbformat": 4,
 "nbformat_minor": 4
}
